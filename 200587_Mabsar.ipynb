{
 "cells": [
  {
   "cell_type": "code",
   "execution_count": null,
   "metadata": {},
   "outputs": [],
   "source": [
    "using Distributions\n",
    "using Random\n",
    "using Plots\n"
   ]
  },
  {
   "cell_type": "code",
   "execution_count": null,
   "metadata": {},
   "outputs": [],
   "source": [
    "M = Vector{Int}()"
   ]
  },
  {
   "cell_type": "code",
   "execution_count": null,
   "metadata": {},
   "outputs": [],
   "source": [
    "for K in 1:10000\n",
    "    i=0\n",
    "    lamda=3\n",
    "    p=2.178^(-lamda)\n",
    "    A=p\n",
    "    U=rand(Uniform(0,1))\n",
    "    \n",
    "    while 1\n",
    "        if U<A\n",
    "            X=i\n",
    "            break\n",
    "        else\n",
    "            p=(2*p)/(1+i)\n",
    "            A=A+p\n",
    "            i=i+1\n",
    "        end\n",
    "    end\n",
    "    push!(M,i)\n",
    "    \n",
    "end\n",
    "display(histogram([M]))"
   ]
  }
 ],
 "metadata": {
  "kernelspec": {
   "display_name": "Julia 1.7.2",
   "language": "julia",
   "name": "julia-1.7"
  },
  "language_info": {
   "file_extension": ".jl",
   "mimetype": "application/julia",
   "name": "julia",
   "version": "1.7.2"
  }
 },
 "nbformat": 4,
 "nbformat_minor": 4
}
