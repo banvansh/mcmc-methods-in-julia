{
 "cells": [
  {
   "cell_type": "code",
   "execution_count": null,
   "id": "a6e2f48a",
   "metadata": {},
   "outputs": [],
   "source": [
    "using Distributions\n",
    "using StatsBase"
   ]
  },
  {
   "cell_type": "code",
   "execution_count": null,
   "id": "c931d16b",
   "metadata": {},
   "outputs": [],
   "source": [
    "using Plots"
   ]
  },
  {
   "cell_type": "code",
   "execution_count": null,
   "id": "b1226ff6",
   "metadata": {
    "scrolled": false
   },
   "outputs": [],
   "source": [
    "#generates a single value for poisson distribution\n",
    "function poisson_generator(l)\n",
    "    i=0\n",
    "    U = rand(Uniform(0,1))\n",
    "    p=ℯ^(-l)\n",
    "    a=p\n",
    "    while 1<2\n",
    "        if U<a\n",
    "            x=i\n",
    "            return x\n",
    "            break\n",
    "        else\n",
    "            p=l*p/(i+1)\n",
    "            a=a+p\n",
    "            i=i+1\n",
    "        end\n",
    "    end\n",
    "end\n",
    " \n"
   ]
  },
  {
   "cell_type": "code",
   "execution_count": null,
   "id": "d8f0f9dc",
   "metadata": {},
   "outputs": [],
   "source": [
    "#Saving 10000 values of Poisson\n",
    "A = Array{Int64}(undef, 10000)\n",
    "for i in 1:10000\n",
    "        A[i] = poisson_generator(20)\n",
    "end"
   ]
  },
  {
   "cell_type": "code",
   "execution_count": null,
   "id": "bbdd86b0",
   "metadata": {},
   "outputs": [],
   "source": [
    "#Displaying the histogram which is expected\n",
    "h = histogram(A)\n",
    "display(h)"
   ]
  },
  {
   "cell_type": "code",
   "execution_count": null,
   "id": "32a2b1e5",
   "metadata": {},
   "outputs": [],
   "source": [
    "#Calculating mean and variance and they come as expected\n",
    "m = genmean(A,1)\n",
    "variance = var(A,mean=m)\n",
    "print(m)\n",
    "print(variance)"
   ]
  },
  {
   "cell_type": "code",
   "execution_count": null,
   "id": "26bfd715",
   "metadata": {},
   "outputs": [],
   "source": []
  },
  {
   "cell_type": "code",
   "execution_count": null,
   "id": "5033e9f0",
   "metadata": {},
   "outputs": [],
   "source": []
  },
  {
   "cell_type": "code",
   "execution_count": null,
   "id": "adb0527c",
   "metadata": {},
   "outputs": [],
   "source": [
    "#generates a single value of binomial distribution\n",
    "function binomial_generator(n,p,l)\n",
    "    c = []\n",
    "    for i in 0:n\n",
    "        push!(c,binomial(n,i)*factorial(i)*p^i*(1-p)^(n-i)/ (ℯ^(-l) * l^i))\n",
    "    end\n",
    "    c_max = maximum(c)\n",
    "    c=c+0.01\n",
    "    \n",
    "    accept = 0\n",
    "    while accept<1.5\n",
    "        U = rand(Uniform(0, 1))\n",
    "        prop = rand(Poisson(l))\n",
    "        if U < binomial(n,prop)*factorial(prop)*p^prop*(1-p)^(n-prop)/ (ℯ^(-l) * l^prop * c_max)\n",
    "            accept = 1\n",
    "            return prop\n",
    "        end\n",
    "    end\n",
    "end"
   ]
  },
  {
   "cell_type": "code",
   "execution_count": null,
   "id": "74325f2a",
   "metadata": {},
   "outputs": [],
   "source": [
    "#Displays the expeceted histogram\n",
    "Y = Array{Int64}(undef,5000)\n",
    "for i in 1:5000\n",
    "    Y[i]=binomial_generator(10,0.25,5)\n",
    "end    \n",
    "\n",
    "h=histogram(Y)\n",
    "display(h)\n"
   ]
  },
  {
   "cell_type": "code",
   "execution_count": null,
   "id": "047f7b5e",
   "metadata": {},
   "outputs": [],
   "source": [
    "#Calculating mean and variance and they come as expected\n",
    "m = genmean(Y,1)\n",
    "variance = var(Y,mean=m)\n",
    "print(m)\n",
    "print(variance)"
   ]
  }
 ],
 "metadata": {
  "kernelspec": {
   "display_name": "Julia 1.4.1",
   "language": "julia",
   "name": "julia-1.4"
  },
  "language_info": {
   "file_extension": ".jl",
   "mimetype": "application/julia",
   "name": "julia",
   "version": "1.4.1"
  }
 },
 "nbformat": 4,
 "nbformat_minor": 5
}
