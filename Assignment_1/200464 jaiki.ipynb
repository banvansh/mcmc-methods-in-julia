{
 "cells": [
  {
   "cell_type": "code",
   "execution_count": 13,
   "id": "2e335782",
   "metadata": {
    "scrolled": true
   },
   "outputs": [
    {
     "ename": "LoadError",
     "evalue": "syntax: incomplete: \"if\" at In[13]:9 requires end",
     "output_type": "error",
     "traceback": [
      "syntax: incomplete: \"if\" at In[13]:9 requires end",
      "",
      "Stacktrace:",
      " [1] top-level scope",
      "   @ In[13]:9",
      " [2] eval",
      "   @ .\\boot.jl:373 [inlined]",
      " [3] include_string(mapexpr::typeof(REPL.softscope), mod::Module, code::String, filename::String)",
      "   @ Base .\\loading.jl:1196"
     ]
    }
   ],
   "source": [
    "randfloat = rand()\n",
    "if randfloat === 0.0\n",
    "    randfloat = 1.0\n",
    "end\n",
    "lambda=10\n",
    "i=0 \n",
    "p=exp(-lambda)\n",
    "A=p\n",
    "if (randfloat<A)\n",
    "    X=i\n",
    "else\n",
    "    p=(lambda/i+1)p\n",
    "    A=A+p\n",
    "    i=i+1\n",
    "    "
   ]
  },
  {
   "cell_type": "code",
   "execution_count": null,
   "id": "007f9857",
   "metadata": {},
   "outputs": [],
   "source": []
  },
  {
   "cell_type": "code",
   "execution_count": null,
   "id": "b4e74d55",
   "metadata": {},
   "outputs": [],
   "source": []
  },
  {
   "cell_type": "code",
   "execution_count": null,
   "id": "23b2f874",
   "metadata": {},
   "outputs": [],
   "source": []
  },
  {
   "cell_type": "code",
   "execution_count": null,
   "id": "3e421e27",
   "metadata": {},
   "outputs": [],
   "source": []
  }
 ],
 "metadata": {
  "kernelspec": {
   "display_name": "Julia 1.7.2",
   "language": "julia",
   "name": "julia-1.7"
  },
  "language_info": {
   "file_extension": ".jl",
   "mimetype": "application/julia",
   "name": "julia",
   "version": "1.7.2"
  }
 },
 "nbformat": 4,
 "nbformat_minor": 5
}
