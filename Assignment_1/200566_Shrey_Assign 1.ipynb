{
 "cells": [
  {
   "cell_type": "markdown",
   "id": "61706c1c",
   "metadata": {},
   "source": [
    "question 1"
   ]
  },
  {
   "cell_type": "code",
   "execution_count": 19,
   "id": "b13eecad",
   "metadata": {
    "scrolled": true
   },
   "outputs": [
    {
     "data": {
      "text/plain": [
       "Int64[]"
      ]
     },
     "execution_count": 19,
     "metadata": {},
     "output_type": "execute_result"
    }
   ],
   "source": [
    "V = Vector{Int}()\n"
   ]
  },
  {
   "cell_type": "code",
   "execution_count": null,
   "id": "2ccb126b",
   "metadata": {},
   "outputs": [],
   "source": [
    "lam =1000\n",
    "for k in 1:10000\n",
    "    i = 0\n",
    "    p = exp(-lam)\n",
    "    A = p\n",
    "    U = rand()\n",
    "    while true\n",
    "        if U < A \n",
    "            push!(V,i)\n",
    "            break\n",
    "        else\n",
    "            p = p * lam/(i+1)\n",
    "            A =  A + p\n",
    "            i = i+1\n",
    "        end\n",
    "    end\n",
    "end\n"
   ]
  },
  {
   "cell_type": "code",
   "execution_count": null,
   "id": "282634ad",
   "metadata": {},
   "outputs": [],
   "source": [
    "V"
   ]
  },
  {
   "cell_type": "code",
   "execution_count": null,
   "id": "1ca78ba9",
   "metadata": {},
   "outputs": [],
   "source": [
    "using Plots\n",
    "histogram(V)"
   ]
  },
  {
   "cell_type": "code",
   "execution_count": null,
   "id": "626c53fa",
   "metadata": {},
   "outputs": [],
   "source": [
    "using Statistics\n",
    "mean(V)"
   ]
  },
  {
   "cell_type": "code",
   "execution_count": null,
   "id": "d8a26e73",
   "metadata": {},
   "outputs": [],
   "source": [
    "var(V)"
   ]
  },
  {
   "cell_type": "markdown",
   "id": "56063a16",
   "metadata": {},
   "source": [
    "Question 2\n"
   ]
  },
  {
   "cell_type": "code",
   "execution_count": null,
   "id": "cb5b9104",
   "metadata": {},
   "outputs": [],
   "source": [
    "n = 25\n",
    "p = 0.34"
   ]
  },
  {
   "cell_type": "code",
   "execution_count": null,
   "id": "80de7e5a",
   "metadata": {},
   "outputs": [],
   "source": [
    "V = Vector{Int}()"
   ]
  },
  {
   "cell_type": "code",
   "execution_count": null,
   "id": "8307705f",
   "metadata": {},
   "outputs": [],
   "source": [
    "S = n*(1-p) - floor((n*(1-p)))\n",
    "if S<p\n",
    "    lam = n - floor((n*(1-p)))\n",
    "else\n",
    "    lam = (1+floor((n*(1-p))))*p/(1-p)\n",
    "end\n"
   ]
  },
  {
   "cell_type": "code",
   "execution_count": null,
   "id": "1df06178",
   "metadata": {},
   "outputs": [],
   "source": [
    "x_max = n - floor((lam*(1-p)/p)) "
   ]
  },
  {
   "cell_type": "code",
   "execution_count": null,
   "id": "067eff19",
   "metadata": {},
   "outputs": [],
   "source": [
    "prod = 1\n",
    "for t in 1:x_max\n",
    "    prod = prod * (n-t+1)\n",
    "end"
   ]
  },
  {
   "cell_type": "code",
   "execution_count": null,
   "id": "c2e7f489",
   "metadata": {},
   "outputs": [],
   "source": [
    "C = prod*exp(lam)*(p^x_max)*((1-p)^(n-x_max))/(lam^x_max)"
   ]
  },
  {
   "cell_type": "code",
   "execution_count": null,
   "id": "d5fd1299",
   "metadata": {},
   "outputs": [],
   "source": [
    "for k in 1:10000\n",
    "    U = rand()\n",
    "    while true\n",
    "        i = 0\n",
    "        p = exp(-lam)\n",
    "        A = p\n",
    "        U1 = rand()\n",
    "        while true\n",
    "            if U1 < A \n",
    "                break\n",
    "            else\n",
    "                p = p * lam/(i+1)\n",
    "                A =  A + p\n",
    "                i = i+1\n",
    "            end\n",
    "        end\n",
    "        y=i\n",
    "        prod = 1\n",
    "        for v in 1:y\n",
    "            prod = prod * (n-v+1)\n",
    "        end\n",
    "        p_q = prod*exp(lam)*(p^y)*((1-p)^(n-y))/(lam^y)\n",
    "        if U < (p_q/C) \n",
    "            push!(V,y)\n",
    "            break\n",
    "        end\n",
    "    end\n",
    "end"
   ]
  },
  {
   "cell_type": "code",
   "execution_count": null,
   "id": "af1c544b",
   "metadata": {},
   "outputs": [],
   "source": [
    "V"
   ]
  },
  {
   "cell_type": "code",
   "execution_count": null,
   "id": "5c036e47",
   "metadata": {},
   "outputs": [],
   "source": [
    "using Plots\n",
    "histogram(V)"
   ]
  },
  {
   "cell_type": "code",
   "execution_count": null,
   "id": "073b2b80",
   "metadata": {},
   "outputs": [],
   "source": [
    "using Statistics\n",
    "mean(V)"
   ]
  },
  {
   "cell_type": "code",
   "execution_count": null,
   "id": "a8cc873e",
   "metadata": {},
   "outputs": [],
   "source": [
    "var(V)"
   ]
  }
 ],
 "metadata": {
  "kernelspec": {
   "display_name": "Julia 1.7.2",
   "language": "julia",
   "name": "julia-1.7"
  },
  "language_info": {
   "file_extension": ".jl",
   "mimetype": "application/julia",
   "name": "julia",
   "version": "1.7.2"
  }
 },
 "nbformat": 4,
 "nbformat_minor": 5
}
