{
 "cells": [
  {
   "cell_type": "code",
   "execution_count": 1,
   "metadata": {},
   "outputs": [
    {
     "name": "stdout",
     "output_type": "stream",
     "text": [
      "0.1578428242824282\n",
      "0.14045304530453037\n"
     ]
    }
   ],
   "source": [
    "using Distributions\n",
    "using Random\n",
    "using Plots\n",
    "function dit(x, p)\n",
    "\ta = rand()\n",
    "\tl = length(p)\n",
    "\tfor i in 1:l\n",
    "\t\ta = a- p[i]\n",
    "\t\tif a ≤ 0\n",
    "\t\t\treturn x[i]\n",
    "\t\tend\n",
    "\tend\n",
    "end\n",
    "\n",
    "function ditpoi(λ) #returns an integer with poisson distribution\n",
    "\ta = rand()\n",
    "\tk = ℯ^(-λ)\n",
    "\ti = 0\n",
    "\twhile true\n",
    "\t\ta = a- k\n",
    "\t\tif (a) ≤ 0\n",
    "\t\t\treturn i\n",
    "\t\tend\n",
    "\t\ti+=1\n",
    "\t\tk*=λ/i\n",
    "\tend\n",
    "end\n",
    "\n",
    "function bin(n, p) #returns an array A = [a_i]_{1 \\le i \\le n+1} where a_i = (n Choose (i-1))*(p)^(i-1)*(1-p)^(n-i+1)\n",
    "\ta = zeros(n+1) \n",
    "\tt = (1-p)^n\n",
    "\tfor j ∈ 0:n\n",
    "\t\ta[j+1] = t\n",
    "\t\tt=t*(n-j)/(j+1)*p/(1-p)\n",
    "\tend\n",
    "\treturn a\n",
    "end\n",
    " \n",
    "function poi(λ, n) #returns an array A = [a_i]_{1 \\le i \\le n+1} where  a_i = \\lambda^(i-1)/((i-1)!) * e^(-\\lambda)\n",
    "\ta = zeros(n+1)\n",
    "\tk = ℯ^(-λ)\n",
    "\tfor i in 1:(n+1)\n",
    "\t\ta[i]=k\n",
    "\t\tk=k*λ/(i)\n",
    "\tend\n",
    "\treturn a\n",
    "end\n",
    "\n",
    "function accrej(n, p) #accept reject function which samples Binomial distribution using Poisson distribution as proposal\n",
    "\tλ = n*p\n",
    "\tc = ℯ^(n*p)*(1-p)\n",
    "\tBN = bin(n, p)\n",
    "\tPO=poi(λ, n)\n",
    "\tdar(BN, PO,n, c, λ)\n",
    "end\n",
    "\n",
    "function dar(P, Q, len, c, λ) #Just a helper function for accrej\n",
    "\tU = rand()\n",
    "\tY = ditpoi(λ)\n",
    "\tif (Y ≤ len) \n",
    "\t\tif (U < P[Y+1]/(c*Q[Y+1]))\n",
    "\t\t\treturn Y\n",
    "\t\tend\n",
    "\tend\n",
    "\treturn dar(P, Q, len, c, λ)\n",
    "end\n",
    "\n"
   ]
  },
  {
   "cell_type": "code",
   "execution_count": null,
   "metadata": {},
   "outputs": [],
   "source": []
  },
  {
   "cell_type": "code",
   "execution_count": null,
   "metadata": {},
   "outputs": [],
   "source": []
  },
  {
   "cell_type": "code",
   "execution_count": null,
   "metadata": {},
   "outputs": [],
   "source": []
  }
 ],
 "metadata": {
  "kernelspec": {
   "display_name": "Julia 1.4.1",
   "language": "julia",
   "name": "julia-1.4"
  },
  "language_info": {
   "file_extension": ".jl",
   "mimetype": "application/julia",
   "name": "julia",
   "version": "1.4.1"
  }
 },
 "nbformat": 4,
 "nbformat_minor": 4
}
