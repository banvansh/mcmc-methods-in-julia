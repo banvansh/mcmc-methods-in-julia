{
 "cells": [
  {
   "cell_type": "markdown",
   "metadata": {},
   "source": [
    "### Solution 1.\n",
    "Given  \n",
    "$\n",
    "\\\\ C_{1} \\sim Bern( \\,\\frac{c_{y}}{{c_{y}}+{c_{x}}}) \\,\n",
    "$\n",
    "$\\ \\Rightarrow \\ pmf \\ f_{C_{1}}( \\,t) \\, = \\left\\{\n",
    "                                 \\begin{array}\\\\\n",
    "                                 \\frac{c_{x}}{{c_{y}}+{c_{x}}} \\ if \\ t = 0 \\\\\n",
    "                                 \\frac{c_{y}}{{c_{y}}+{c_{x}}} \\ if \\ t = 1\n",
    "                                 \\end{array}\n",
    "                                 \\right.\n",
    "$\n",
    "$\n",
    "\\\\ C_{2} \\sim Bern( \\,p_{y}) \\,\n",
    "\\\\ \\Rightarrow \\ pmf \\ f_{C_{1}}( \\,t) \\, = \\left\\{\n",
    "                                 \\begin{array}\\\\\n",
    "                                 1 \\ - \\ p_{y} \\ if \\ t = 0 \\\\\n",
    "                                 p_{y} \\ \\ \\ \\ \\ \\ \\ \\ \\ if \\ t = 1\n",
    "                                 \\end{array}\n",
    "                                 \\right.\n",
    "$\n",
    "$\n",
    "\\\\ C_{3} \\sim Bern( \\,p_{x}) \\,\n",
    "\\\\ \\Rightarrow \\ pmf \\ f_{C_{1}}( \\,t) \\, = \\left\\{\n",
    "                                 \\begin{array}\\\\\n",
    "                                 1 \\ - \\ p_{x} \\ if \\ t = 0 \\\\\n",
    "                                 p_{x} \\ \\ \\ \\ \\ \\ \\ \\ \\ if \\ t = 1\n",
    "                                 \\end{array}\n",
    "                                 \\right.\n",
    "$\n",
    "We have to prove $\\ Y \\sim Bern( \\, \\frac{c_{y} * p_{y}}{{c_{y} * p_{y}} + {c_{x} * p_{x}}} ) \\, \\\\ $\n",
    "From the algorithm it can be deduced that\n",
    "$$\n",
    "\\\\f_{Y} ( \\, t ) \\, = P ( \\, Y = t ) \\, = \\left\\{\n",
    "                                  \\begin{array}\\\\\n",
    "                                  P ( \\, C_{1} = 1 ) \\, P ( \\, C_{2} = 1 ) \\, = \\frac{c_{y}*p_{y}}{{c_{y}}+{c_{x}}} \\ if \\ t = 1 \\\\\n",
    "                                  P ( \\, C_{1} = 0 ) \\, P ( \\, C_{3} = 1 ) \\, = \\frac{c_{x}*p_{x}}{{c_{y}}+{c_{x}}} \\ if \\ t = 0\n",
    "                                 \\end{array}\n",
    "                                 \\right.\n",
    "$$\n",
    "Hence, $ Y \\sim Bern( \\, \\frac{c_{y} * p_{y}}{c_{y} + c_{x}} ) \\, \\\\$\n",
    "From the property of pmf that summation of pmf of discrete R.V. over the support is 1 that is \n",
    "$ \\ P (Y = 1) + P(Y = 0) = 1 \\ $\n",
    "we get,\n",
    "$ \\\\ c_{y} p_{y} \\ + \\ c_{x} p_{x} = 1 . $\n",
    "By using this result we get    \n",
    "$\\ Y \\sim Bern( \\frac{c_{y} * p_{y}}{{c_{y} * p_{y}} + {c_{x} * p_{x}}} ) \\\\ $\n"
   ]
  },
  {
   "cell_type": "code",
   "execution_count": null,
   "metadata": {},
   "outputs": [],
   "source": []
  }
 ],
 "metadata": {
  "kernelspec": {
   "display_name": "Julia 1.7.2",
   "language": "julia",
   "name": "julia-1.7"
  },
  "language_info": {
   "file_extension": ".jl",
   "mimetype": "application/julia",
   "name": "julia",
   "version": "1.7.2"
  }
 },
 "nbformat": 4,
 "nbformat_minor": 4
}
