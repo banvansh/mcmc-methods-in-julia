{
 "cells": [
  {
   "cell_type": "code",
   "execution_count": null,
   "metadata": {},
   "outputs": [],
   "source": [
    "Consider $\\sup_x \\frac{C(x)}{N(x)} = \\sup \\frac{(2 \\pi)^{\\frac{1}{2}}}{\\pi(1+x^2) e^{-\\frac{x^2}{2}}}$"
   ]
  },
  {
   "cell_type": "code",
   "execution_count": null,
   "metadata": {},
   "outputs": [],
   "source": [
    "We know that $Var(\\theta_w) = Var(\\theta)(1+ \\frac{Var_g(w(Z))}{[E_g(w(Z))]^2})$"
   ]
  },
  {
   "cell_type": "code",
   "execution_count": 9,
   "metadata": {},
   "outputs": [],
   "source": [
    "using Pkg\n",
    "using Distributions\n",
    "using Random, Plots"
   ]
  },
  {
   "cell_type": "code",
   "execution_count": 10,
   "metadata": {},
   "outputs": [
    {
     "data": {
      "text/plain": [
       "5"
      ]
     },
     "execution_count": 10,
     "metadata": {},
     "output_type": "execute_result"
    }
   ],
   "source": [
    "Random.seed!(1)\n",
    "n=50\n",
    "v=5"
   ]
  },
  {
   "cell_type": "code",
   "execution_count": 11,
   "metadata": {},
   "outputs": [
    {
     "data": {
      "text/plain": [
       "50-element Array{Float64,1}:\n",
       "  0.2927931950901149\n",
       " -0.6706523445179596\n",
       "  0.19202060410311886\n",
       " -2.1346986945677235\n",
       "  0.3998301621322005\n",
       "  0.9266596262673958\n",
       " -0.510307136943845\n",
       " -0.07473429793442322\n",
       "  0.18441983943409307\n",
       "  0.7194564481246042\n",
       "  0.6299873680742867\n",
       " -0.11105156951226389\n",
       " -0.06314049843083926\n",
       "  ⋮\n",
       " -1.7160600556992944\n",
       "  0.5089608356192056\n",
       "  1.1766684079957437\n",
       " -1.9805565079361207\n",
       " -1.3831499050088696\n",
       " -2.632251079363498\n",
       "  0.461120321239048\n",
       "  0.8748981589699243\n",
       "  2.2635760550198953\n",
       " -0.9967225775981863\n",
       " -1.5426498701645828\n",
       " -0.3790522795534317"
      ]
     },
     "execution_count": 11,
     "metadata": {},
     "output_type": "execute_result"
    }
   ],
   "source": [
    "y = [rand(TDist(v)) for i in 1:n]"
   ]
  },
  {
   "cell_type": "code",
   "execution_count": 12,
   "metadata": {},
   "outputs": [
    {
     "data": {
      "text/plain": [
       "t (generic function with 1 method)"
      ]
     },
     "execution_count": 12,
     "metadata": {},
     "output_type": "execute_result"
    }
   ],
   "source": [
    "function t(x)\n",
    "    a = 1\n",
    "    for i in 1:n\n",
    "        a*=(1+(y[i] - x)^2/v)^(-(v+1)/2)\n",
    "    end\n",
    "    return ℯ^(-x^2/2)*a\n",
    "end"
   ]
  },
  {
   "cell_type": "code",
   "execution_count": null,
   "metadata": {},
   "outputs": [],
   "source": []
  },
  {
   "cell_type": "code",
   "execution_count": 16,
   "metadata": {},
   "outputs": [
    {
     "ename": "LoadError",
     "evalue": "\u001b[91msyntax: incomplete: invalid \"`\" syntax\u001b[39m",
     "output_type": "error",
     "traceback": [
      "\u001b[91msyntax: incomplete: invalid \"`\" syntax\u001b[39m",
      ""
     ]
    }
   ],
   "source": [
    "function imps(n)\n",
    "    q = 0\n",
    "    a = rand(Normal(),n)\n",
    "    for i in 1:n\n",
    "        q += (a[i]*((ℯ^(-(a[i])^2/2)))/((2*π)^(1/2)))\n",
    "    end\n",
    "    p = q/n\n",
    "    return p\n",
    "end"
   ]
  },
  {
   "cell_type": "code",
   "execution_count": null,
   "metadata": {},
   "outputs": [],
   "source": []
  }
 ],
 "metadata": {
  "kernelspec": {
   "display_name": "Julia 1.4.1",
   "language": "julia",
   "name": "julia-1.4"
  },
  "language_info": {
   "file_extension": ".jl",
   "mimetype": "application/julia",
   "name": "julia",
   "version": "1.4.1"
  }
 },
 "nbformat": 4,
 "nbformat_minor": 4
}
