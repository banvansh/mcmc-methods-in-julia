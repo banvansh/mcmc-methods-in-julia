{
 "cells": [
  {
   "cell_type": "markdown",
   "id": "3b23977d",
   "metadata": {},
   "source": [
    "# Solution to problem 1\n",
    "\n",
    "Borrowing the notations from the lectures, we have $$\\hat{\\theta_g}= \\frac{1}{N} \\sum_{t=1}^{N}\\frac{h(Z_t)\\pi(Z_t)}{g(Z_t)}$$\n",
    "where, $h(x)=x$, $g(x)=\\frac{1}{\\sqrt{2\\pi}}e^{-\\frac{x^2}{2}}$ and $\\pi(x) = \\frac{1}{\\pi(1+x^2)}$.\n",
    "Now, after substituting the values and a bit of rearrangement, we can see that $Var_g(\\hat{\\theta_g})$ is finite iff $Var_g(\\frac{h(Z_1)\\pi(Z_1)}{g(Z_1)})=Var_g(\\frac{xe^{\\frac{x^2}{2}}}{1+x^2})=Var_g(s(x))$ is finite.\n",
    "Now, $E_g(s)=\\int_{-\\infty}^{\\infty}\\frac{x}{1+x^2}dx = 0$, and $E_g(s^2)= \\int_{-\\infty}^{\\infty} \\frac{x^2e^{\\frac{x^2}{2}}}{(1+x^2)^2} \\to \\infty$. So, $Var_g(s)=\\infty$ and as a result the estimator does not have a finite variance. \n",
    " "
   ]
  },
  {
   "cell_type": "markdown",
   "id": "1277ba31",
   "metadata": {},
   "source": [
    "# Solution to problem 2\n",
    "\n",
    "(a) If we assume that the error in the approximate expression for variance in the lecture to be constant upto scaling then even if the simple importance estimator has finite variance, the weighted importance estimator may not have finite variance. The reason is that $Var_g(\\hat{\\theta_g})$ is finite iff $\\frac{E_g(w^2)}{(E_g(w))^2}$ is finite. But if $g$ is uniform distibution on an interval and $w$ is like the function described [here](https://math.stackexchange.com/a/4230717) scaled to the same interval, then the ratio will diverge.\n",
    "\n",
    "(b) In importance sampling, proposals are never rejected, but in accept-reject, we may need many iterations to get an acceptable proposal. So, if we use importace sampling we may land near the result quickly."
   ]
  },
  {
   "cell_type": "markdown",
   "id": "9f5800ef",
   "metadata": {},
   "source": [
    "# Solution to Problem 3\n",
    "\n",
    "By running the code for different values of $N$, we can see that the variance is increasing with $N$ for all three cases. This suggests that weighted importance sampling estimator does not have a finite variance in all three cases. What is interesting is the fact that variance is decreasing with incresing value of $v$. "
   ]
  },
  {
   "cell_type": "code",
   "execution_count": 3,
   "id": "a9bf081d",
   "metadata": {},
   "outputs": [],
   "source": [
    "using Distributions\n",
    "using StatsPlots\n",
    "using Random"
   ]
  },
  {
   "cell_type": "code",
   "execution_count": 6,
   "id": "3ef0be58",
   "metadata": {},
   "outputs": [
    {
     "data": {
      "text/plain": [
       "MersenneTwister(1)"
      ]
     },
     "execution_count": 6,
     "metadata": {},
     "output_type": "execute_result"
    }
   ],
   "source": [
    "Random.seed!(1)"
   ]
  },
  {
   "cell_type": "code",
   "execution_count": 8,
   "id": "ae3bbd86",
   "metadata": {},
   "outputs": [
    {
     "data": {
      "text/plain": [
       "yTDist (generic function with 1 method)"
      ]
     },
     "execution_count": 8,
     "metadata": {},
     "output_type": "execute_result"
    }
   ],
   "source": [
    "function yTDist(v)\n",
    "    y = zeros(50, 1)\n",
    "    for i in 1:50\n",
    "        y[i] = rand(TDist(v))\n",
    "    end\n",
    "    return y\n",
    "end"
   ]
  },
  {
   "cell_type": "code",
   "execution_count": 9,
   "id": "610d07f1",
   "metadata": {},
   "outputs": [
    {
     "data": {
      "text/plain": [
       "wht (generic function with 1 method)"
      ]
     },
     "execution_count": 9,
     "metadata": {},
     "output_type": "execute_result"
    }
   ],
   "source": [
    "function wht(y, x, v)\n",
    "    prod = 1\n",
    "    for i in 1:50\n",
    "        temp = (y[i]-x)*(y[i]-x)/v\n",
    "        prod = prod*((1+temp)^(-((v+1)/2)))\n",
    "    end\n",
    "    return prod\n",
    "end"
   ]
  },
  {
   "cell_type": "code",
   "execution_count": 65,
   "id": "bc35c769",
   "metadata": {
    "scrolled": true
   },
   "outputs": [
    {
     "data": {
      "text/plain": [
       "wtdImpSampl (generic function with 1 method)"
      ]
     },
     "execution_count": 65,
     "metadata": {},
     "output_type": "execute_result"
    }
   ],
   "source": [
    "function wtdImpSampl(v, N)\n",
    "    whtSum = 0\n",
    "    numSum = 0\n",
    "    whtArr = zeros(N, 1)\n",
    "    whtSqArr = zeros(N, 1)\n",
    "    for i in 1:N\n",
    "        y = yTDist(v)\n",
    "        Z_i = rand(Normal(0,1)) \n",
    "        num = Z_i*wht(y, Z_i, v)\n",
    "        den = wht(y, Z_i, v)\n",
    "        whtArr[i] = den\n",
    "        whtSqArr[i] = den*den\n",
    "        numSum = numSum + num\n",
    "        whtSum = whtSum + den\n",
    "    end\n",
    "    var = mean(whtSqArr)/(mean(whtArr)*mean(whtArr))\n",
    "    print(\"Variance is \")\n",
    "    println(var)\n",
    "    return numSum/whtSum\n",
    "end"
   ]
  },
  {
   "cell_type": "code",
   "execution_count": 81,
   "id": "01c68f75",
   "metadata": {},
   "outputs": [
    {
     "name": "stdout",
     "output_type": "stream",
     "text": [
      "Variance is 2121.0308277840877\n"
     ]
    },
    {
     "data": {
      "text/plain": [
       "0.011532657276939832"
      ]
     },
     "execution_count": 81,
     "metadata": {},
     "output_type": "execute_result"
    }
   ],
   "source": [
    "N = 100000\n",
    "v = 5\n",
    "wtdImpSampl(v, N)"
   ]
  },
  {
   "cell_type": "code",
   "execution_count": 82,
   "id": "4357bdb3",
   "metadata": {},
   "outputs": [
    {
     "name": "stdout",
     "output_type": "stream",
     "text": [
      "Variance is 13460.900584593297\n"
     ]
    },
    {
     "data": {
      "text/plain": [
       "-0.050813092734620584"
      ]
     },
     "execution_count": 82,
     "metadata": {},
     "output_type": "execute_result"
    }
   ],
   "source": [
    "N = 1000000\n",
    "v = 5\n",
    "wtdImpSampl(v, N)"
   ]
  },
  {
   "cell_type": "code",
   "execution_count": 83,
   "id": "5f73a58e",
   "metadata": {},
   "outputs": [
    {
     "name": "stdout",
     "output_type": "stream",
     "text": [
      "Variance is 36365.192252522\n"
     ]
    },
    {
     "data": {
      "text/plain": [
       "0.007551175950106819"
      ]
     },
     "execution_count": 83,
     "metadata": {},
     "output_type": "execute_result"
    }
   ],
   "source": [
    "N = 10000000\n",
    "v = 5\n",
    "wtdImpSampl(v, N)"
   ]
  },
  {
   "cell_type": "code",
   "execution_count": 84,
   "id": "50ced96e",
   "metadata": {},
   "outputs": [
    {
     "name": "stdout",
     "output_type": "stream",
     "text": [
      "Variance is 58289.5554765333\n"
     ]
    },
    {
     "data": {
      "text/plain": [
       "-0.25279983305593845"
      ]
     },
     "execution_count": 84,
     "metadata": {},
     "output_type": "execute_result"
    }
   ],
   "source": [
    "N = 100000\n",
    "v = 1\n",
    "wtdImpSampl(v, N)"
   ]
  },
  {
   "cell_type": "code",
   "execution_count": 85,
   "id": "0aa6481b",
   "metadata": {},
   "outputs": [
    {
     "name": "stdout",
     "output_type": "stream",
     "text": [
      "Variance is 615285.0104782261\n"
     ]
    },
    {
     "data": {
      "text/plain": [
       "-0.2701028575955555"
      ]
     },
     "execution_count": 85,
     "metadata": {},
     "output_type": "execute_result"
    }
   ],
   "source": [
    "N = 1000000\n",
    "v = 1\n",
    "wtdImpSampl(v, N)"
   ]
  },
  {
   "cell_type": "code",
   "execution_count": 86,
   "id": "9fd478f4",
   "metadata": {},
   "outputs": [
    {
     "name": "stdout",
     "output_type": "stream",
     "text": [
      "Variance is 1.9273152826987377e6\n"
     ]
    },
    {
     "data": {
      "text/plain": [
       "-0.08268700988677549"
      ]
     },
     "execution_count": 86,
     "metadata": {},
     "output_type": "execute_result"
    }
   ],
   "source": [
    "N = 10000000\n",
    "v = 1\n",
    "wtdImpSampl(v, N)"
   ]
  },
  {
   "cell_type": "code",
   "execution_count": 87,
   "id": "983cb9cc",
   "metadata": {},
   "outputs": [
    {
     "name": "stdout",
     "output_type": "stream",
     "text": [
      "Variance is 10139.112023892885\n"
     ]
    },
    {
     "data": {
      "text/plain": [
       "-0.14286878697620484"
      ]
     },
     "execution_count": 87,
     "metadata": {},
     "output_type": "execute_result"
    }
   ],
   "source": [
    "N = 100000\n",
    "v = 2\n",
    "wtdImpSampl(v, N)"
   ]
  },
  {
   "cell_type": "code",
   "execution_count": 88,
   "id": "df2a03a0",
   "metadata": {},
   "outputs": [
    {
     "name": "stdout",
     "output_type": "stream",
     "text": [
      "Variance is 128973.77532868802\n"
     ]
    },
    {
     "data": {
      "text/plain": [
       "-0.15745815591603396"
      ]
     },
     "execution_count": 88,
     "metadata": {},
     "output_type": "execute_result"
    }
   ],
   "source": [
    "N = 1000000\n",
    "v = 2\n",
    "wtdImpSampl(v, N)"
   ]
  },
  {
   "cell_type": "code",
   "execution_count": 89,
   "id": "87412eb4",
   "metadata": {},
   "outputs": [
    {
     "name": "stdout",
     "output_type": "stream",
     "text": [
      "Variance is 100232.49733874602\n"
     ]
    },
    {
     "data": {
      "text/plain": [
       "-0.0055666055298659554"
      ]
     },
     "execution_count": 89,
     "metadata": {},
     "output_type": "execute_result"
    }
   ],
   "source": [
    "N = 10000000\n",
    "v = 2\n",
    "wtdImpSampl(v, N)"
   ]
  },
  {
   "cell_type": "markdown",
   "id": "8d1ce0be",
   "metadata": {},
   "source": [
    "# Solution to problem 4\n",
    "\n",
    "We have $Y_1,\\dots Y_n | \\lambda \\sim Poisson({\\lambda})$ and $\\lambda \\sim Gamma(\\alpha, \\beta)$, let $(y_1, \\dots y_n)$ be a sample drawn from $Y = (Y_1, \\dots Y_n)$ and let $y = \\sum_{i=1}^{n} y_i$. Then, \n",
    "$$p(\\lambda | Y) \\propto f(Y|\\lambda) p(\\lambda) \\propto \\lambda^{\\alpha - 1} e^{-\\beta \\lambda}\\prod_{i=1}^{n} \\frac{\\lambda^{y_i} e^{- \\lambda}}{y_i!} \\propto \\lambda^{\\alpha + y- 1} e^{-(\\beta + n)\\lambda} \\sim Gamma(\\alpha + y , \\beta + n) \\text{  (Upto constant of proportionality)}$$\n",
    "So, we conclude that $p(\\lambda | Y) \\sim Gamma(\\alpha + y , \\beta + n)$.\n"
   ]
  }
 ],
 "metadata": {
  "kernelspec": {
   "display_name": "Julia 1.6.6",
   "language": "julia",
   "name": "julia-1.6"
  },
  "language_info": {
   "file_extension": ".jl",
   "mimetype": "application/julia",
   "name": "julia",
   "version": "1.6.6"
  }
 },
 "nbformat": 4,
 "nbformat_minor": 5
}
