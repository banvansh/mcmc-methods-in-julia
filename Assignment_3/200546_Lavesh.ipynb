{
 "cells": [
  {
   "cell_type": "markdown",
   "metadata": {},
   "source": [
    "# Assignment 2"
   ]
  },
  {
   "cell_type": "markdown",
   "metadata": {},
   "source": [
    "## First Question "
   ]
  },
  {
   "cell_type": "markdown",
   "metadata": {},
   "source": [
    "Since we are calculating mean, h(x) = x        \n",
    "g(x) is Normal and $\\pi(x)$ is Cauchy \n",
    "\n",
    "\n",
    "\n",
    "\n",
    "Using Theorem 2   \n",
    "           \n",
    "sup $ \\frac{\\pi(z)}{g(z)} = \\infty $          \n",
    "Using [Wolfram Alpha](https://www.wolframalpha.com/input?i2d=true&i=maximum+of+Divide%5BPower%5Be%2CDivide%5B1%2C2%5DPower%5Bx%2C2%5D%5D%2CPower%5Bx%2C2%5D%2B1%5D) to calculate maximum.         \n",
    "So sup is infinite\n",
    "\n",
    "$ Var_{\\pi}(h(x)) = Var_{\\pi}(x) = \\infty$ (Cauchy distribution)\n",
    "           \n",
    "           So we cannot apply Theorem 2 here"
   ]
  },
  {
   "cell_type": "markdown",
   "metadata": {},
   "source": [
    "$ \\hat{\\theta_{g}} = 1/N \\sum_{t=1}^{N} \\frac{h(Z_{t})\\pi(Z_{t})}{g(Z_{t})}$           \n",
    "$ Var_{g}(\\hat{\\theta_{g}}) = Var_{g}(1/N \\sum_{t=1}^{N} \\frac{h(Z_{t})\\pi(Z_{t})}{g(Z_{t})}) $              \n",
    "$ = 1/N^2 \\sum_{t=1}^{N} Var_{g}(\\frac{h(Z_{t})\\pi(Z_{t})}{g(Z_{t})}) $ because of independence        \n",
    "$ =\\frac{Var_{g}(\\frac{h(Z_{t})\\pi(Z_{t})}{g(Z_{t})})}{N} $  because of identical"
   ]
  },
  {
   "cell_type": "markdown",
   "metadata": {},
   "source": [
    "Variance of estimator will be finite if $ Var_{g}(\\frac{h(Z_{t})\\pi(Z_{t})}{g(Z_{t})}) $ is finite          \n",
    "Substituting the functions $ \\propto Var_{g}(\\frac{xe^{\\frac{x^2}{2}}}{1+x^2}) $ = $ Var_{g}(f(x)) $         \n",
    "$ E_{g}(f(x)) \\propto \\int_{-\\infty}^{\\infty} \\frac{x}{x^2+1} dx = 0 $    odd function\n",
    "    \n",
    "$ E_{g}(f^2(x)) \\propto \\int_{-\\infty}^{\\infty} \\frac{x^2e^{\\frac{x^2}{2}}}{(x^2+1)^2} dx = \\infty $  [Wolfram Alpha](https://www.wolframalpha.com/input?i2d=true&i=Integrate%5BDivide%5BPower%5Bx%2C2%5DPower%5Be%2CDivide%5B1%2C2%5DPower%5Bx%2C2%5D%5D%2CPower%5B%5C%2840%29Power%5Bx%2C2%5D%2B1%5C%2841%29%2C2%5D%5D%2C%7Bx%2C-%E2%88%9E%2C%E2%88%9E%7D%5D)\n",
    "\n",
    "\n",
    "Hence the estimator does not have finite variance\n",
    "\n"
   ]
  },
  {
   "cell_type": "markdown",
   "metadata": {},
   "source": [
    "## Second Question"
   ]
  },
  {
   "cell_type": "markdown",
   "metadata": {},
   "source": [
    "(a) I cannot find any way to show that weighted importance estimator will also have a finite variance. So, it may happen that it diverges.                        \n",
    "(b) Yes, importance sampling is faster because in accept-reject, it takes more iterations to get a proposal. However, in important sampling, every proposal is accepted."
   ]
  },
  {
   "cell_type": "markdown",
   "metadata": {},
   "source": [
    "## Fourth Question Posterior Distribution"
   ]
  },
  {
   "cell_type": "markdown",
   "metadata": {},
   "source": [
    "$ Y = (Y_{1}, Y_{2}, Y_{3},... Y_{n}) $        \n",
    " Let $ y_{i} $ be the sample from $ Y_{i} $                           \n",
    "$ f $ be the Gamma sample distribution         \n",
    "I will write only the \"_variable_\" terms which are $ \\lambda, \\alpha, \\beta  $ since it is proportionality               \n",
    "$ \\pi(\\lambda | Y ) \\propto f(Y|\\lambda)\\pi(\\lambda) \\propto \\lambda^{\\alpha-1} e^{-\\beta\\lambda}\\prod_{i=1}^{n} {\\lambda^{y_{i}}e^{-\\lambda}} $        \n",
    "$ \\propto \\lambda^{\\alpha+\\sum_{i=1}^{n}y_{i}-1}e^{-(\\beta+n)\\lambda} $          \n",
    "Posterior Distribution of $\\lambda|Y$: $ Gamma(\\alpha + \\sum_{i=1}^{n}y_{i},\\beta+n) $"
   ]
  },
  {
   "cell_type": "markdown",
   "metadata": {},
   "source": [
    "Thank You                         \n",
    "Sorry, I could not do the third one. There is a school happening in Maths dept and I was attending it. The name is [ISLA-2022](https://sites.google.com/view/isla-2022-iitk/home). It was full day of lectures continuously for a week."
   ]
  }
 ],
 "metadata": {
  "kernelspec": {
   "display_name": "Julia 1.7.2",
   "language": "julia",
   "name": "julia-1.7"
  },
  "language_info": {
   "file_extension": ".jl",
   "mimetype": "application/julia",
   "name": "julia",
   "version": "1.7.2"
  },
  "orig_nbformat": 4
 },
 "nbformat": 4,
 "nbformat_minor": 2
}
