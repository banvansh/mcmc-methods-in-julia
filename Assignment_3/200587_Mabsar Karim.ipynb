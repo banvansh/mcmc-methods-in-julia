{
 "cells": [
  {
   "cell_type": "markdown",
   "metadata": {},
   "source": [
    "Q1) Given that f(x) is a standard cauchy distribution \n",
    " $$  \\[ f(x)=\\frac{1}{\\pi(1+x^2)} \\ \\ \\ {and} \n",
    "\\ \\ h(x)=(x)$$"
   ]
  },
  {
   "cell_type": "markdown",
   "metadata": {},
   "source": [
    "let the importance distribution of g(x)=N(0,\\sigma^2)."
   ]
  },
  {
   "cell_type": "markdown",
   "metadata": {},
   "source": [
    "Corresponding Importance estimator = f(z)*h(z)/g(z)"
   ]
  },
  {
   "cell_type": "markdown",
   "metadata": {},
   "source": [
    "for the variance of the estimator to be finite $$E_g\\left[\\frac{(f(z)h(z))^2}{g(z)^2}\\right] $$ should be finite."
   ]
  },
  {
   "cell_type": "markdown",
   "metadata": {},
   "source": [
    "Hence $$E_g\\left[\\frac{(f(z)h(z))^2}{g(z)^2}\\right] $$ = $$\\[ \\int_{-\\infty}^{\\infty} h(x)^2f(x)^2/g(x) \\,dx \\]$$ =1/(\\pi^2)$$\\[ \\int_{-\\infty}^{\\infty} x^2/(1+x^4)N(0,\\sigma^2) \\,dx \\]$$"
   ]
  },
  {
   "cell_type": "markdown",
   "metadata": {},
   "source": [
    "Since the later integral doesn't exist, the variance is Not finite."
   ]
  },
  {
   "cell_type": "markdown",
   "metadata": {},
   "source": [
    "Q4) Given Y1, Y2, ... , Yn | 𝜆->Poisson(𝜆) and 𝜆 ->Gamma(𝛼, 𝛽)"
   ]
  },
  {
   "cell_type": "markdown",
   "metadata": {},
   "source": [
    "Posterior distribution of 𝜆 = P(𝜆|{Yi},𝛼, 𝛽)=P(𝜆,{Yi},𝛼, 𝛽)/P({Yi},𝛼, 𝛽)"
   ]
  },
  {
   "cell_type": "markdown",
   "metadata": {},
   "source": [
    "Posterior distribution of 𝜆 = $$ \\frac{P({y_i}|\\lambda,\\alpha,\\beta)\\cdot(\\lambda|\\alpha,\\beta)}{\\[ \\int_{-\\infty}^{\\infty} P({y_i}|\\lambda,\\alpha,\\beta)\\cdot(\\lambda|\\alpha,\\beta) \\,d\\lambda \\]} $$"
   ]
  },
  {
   "cell_type": "markdown",
   "metadata": {},
   "source": [
    "The denominator integrates out to be 1 and numberator="
   ]
  },
  {
   "cell_type": "markdown",
   "metadata": {},
   "source": [
    "$$ e^(-n\\lambda)\\cdot\\lambda^(\\sum y_i)\\cdot\\lambda^(\\alpha-1)\\cdot e^(-\\beta\\lambda) $$"
   ]
  },
  {
   "cell_type": "markdown",
   "metadata": {},
   "source": [
    "Grouping the like terms together and comparing the expression with Gamma of 𝜆 we get the posterior distribution is  "
   ]
  },
  {
   "cell_type": "markdown",
   "metadata": {},
   "source": [
    "$$ gamma\\left(\\sum y_i +\\alpha, n+\\beta\\right) $$"
   ]
  },
  {
   "cell_type": "markdown",
   "metadata": {},
   "source": [
    "Q3)"
   ]
  },
  {
   "cell_type": "code",
   "execution_count": 2,
   "metadata": {},
   "outputs": [
    {
     "data": {
      "text/plain": [
       "Any[]"
      ]
     },
     "execution_count": 2,
     "metadata": {},
     "output_type": "execute_result"
    }
   ],
   "source": [
    "arr=[]"
   ]
  },
  {
   "cell_type": "code",
   "execution_count": 3,
   "metadata": {},
   "outputs": [
    {
     "data": {
      "text/plain": [
       "c (generic function with 1 method)"
      ]
     },
     "execution_count": 3,
     "metadata": {},
     "output_type": "execute_result"
    }
   ],
   "source": [
    "function c(v)\n",
    "    arr=[]\n",
    "    c=1\n",
    "    for i in 1:50\n",
    "        x=rand(TDist(v))\n",
    "        push!(arr,x)\n",
    "    end\n",
    "    return arr\n",
    "end"
   ]
  },
  {
   "cell_type": "code",
   "execution_count": 4,
   "metadata": {},
   "outputs": [
    {
     "data": {
      "text/plain": [
       "t (generic function with 1 method)"
      ]
     },
     "execution_count": 4,
     "metadata": {},
     "output_type": "execute_result"
    }
   ],
   "source": [
    "function t(x,v)\n",
    "    distr=exp(-(x*x)/2)\n",
    "    for i in 1:50\n",
    "        distr*=(1+((arr_y[i]-x)^2)/v)^(-(v+1)/2)\n",
    "    end\n",
    "    return distr\n",
    "end    "
   ]
  },
  {
   "cell_type": "code",
   "execution_count": 6,
   "metadata": {},
   "outputs": [
    {
     "data": {
      "text/plain": [
       "n (generic function with 1 method)"
      ]
     },
     "execution_count": 6,
     "metadata": {},
     "output_type": "execute_result"
    }
   ],
   "source": [
    "function n(x)\n",
    "    val=exp(-(x*x)/2)/(2*pi)^(1/2)\n",
    "    return val\n",
    "end   "
   ]
  },
  {
   "cell_type": "code",
   "execution_count": 7,
   "metadata": {},
   "outputs": [
    {
     "data": {
      "text/plain": [
       "weight (generic function with 1 method)"
      ]
     },
     "execution_count": 7,
     "metadata": {},
     "output_type": "execute_result"
    }
   ],
   "source": [
    "function weight(n::Number,v::Number)\n",
    "    num=0\n",
    "    deno=0\n",
    "    for i in 1:n\n",
    "        x=rand(Normal(0,1))\n",
    "        num+=(x)*(t(x,v))/n(x)\n",
    "        deno+=(t(x,v)/nor(x))\n",
    "    end\n",
    "    esti=(num)/(deno)\n",
    "    return esti\n",
    "end    "
   ]
  },
  {
   "cell_type": "code",
   "execution_count": null,
   "metadata": {},
   "outputs": [],
   "source": []
  }
 ],
 "metadata": {
  "kernelspec": {
   "display_name": "Julia 1.7.2",
   "language": "julia",
   "name": "julia-1.7"
  },
  "language_info": {
   "file_extension": ".jl",
   "mimetype": "application/julia",
   "name": "julia",
   "version": "1.7.2"
  }
 },
 "nbformat": 4,
 "nbformat_minor": 4
}
