{
 "cells": [
  {
   "cell_type": "markdown",
   "id": "abff3b9d",
   "metadata": {},
   "source": [
    "# Assignment 3 - MCMC Methods in Julia\n",
    "## Pranshu Gaur - 200703"
   ]
  },
  {
   "cell_type": "markdown",
   "id": "21bc6633",
   "metadata": {},
   "source": [
    "### Question 1\n"
   ]
  },
  {
   "cell_type": "markdown",
   "id": "185ccd51",
   "metadata": {},
   "source": [
    "For estimating mean of a standard Cauchy distribution using importance sampling with a normal proposal distribution, \n",
    "$\\large{h(x) = x, \\pi(x) = \\frac{1}{\\pi(x^2+1)}, g(x) = \\frac{e^\\frac{-x^2}{2}}{\\sqrt{2\\pi}}}$\n",
    "\n",
    "$$\\ \\hat{\\theta}_g=\\ \\frac{1}{N}\\ \\sum_{t=1}^{N} \\frac{h(Z_t) \\pi(Z_t)}{g(Z_t)}$$\n",
    "\n",
    "$Var(\\hat{\\theta}_g)$ will be finite if ${Var(\\ \\frac{h(Z_t)\\ \\pi(Z_t)}{g(Z_t)})}$ is finite. This is finite when its second moment is finite. So, the second moment of $ \\frac{h(Z_t)\\ \\pi(Z_t)}{g(Z_t)}$ is\n",
    "\n",
    "$$E({\\frac{h^2(Z_t)\\ \\pi^2(Z_t)}{g^2(Z_t)}}) = \\int_{-\\infty}^{+\\infty} \\frac{x^2 \\frac{1}{\\pi^2(x^2+1)^2}}{\\frac{e^{-x^2}}{{2\\pi}}}\\frac{e^{\\frac{-x^2}{2}}}{\\sqrt{2\\pi}}\\,dx$$\n",
    "\n",
    "\n",
    "$$= \\int_{-\\infty}^{+\\infty} \\frac{\\sqrt{2}}{\\pi\\sqrt{\\pi}}x^2 \\frac{e^{\\frac{x^2}{2}}}{(x^2+1)^2} \\,dx$$\n",
    "\n",
    "$$\\geq \\int_{-\\infty}^{+\\infty} \\frac{\\sqrt{2}}{\\pi\\sqrt{\\pi}}x^2 \\frac{e^{\\frac{x^2}{2}}}{(x^2+2)^2} \\,dx$$\n",
    "                 \n",
    "$$= \\int_{-\\infty}^{+\\infty} \\frac{\\sqrt{2}}{\\pi\\sqrt{\\pi}}x^2 \\frac{e^{\\frac{x^2}{2}}}{4(\\frac{x^2}{2}+1)^2} \\,dx$$\n",
    "\n",
    "As $e^{\\frac{x^2}{2}}\\geq 1 + \\frac{x^2}{2}$ $$\\geq \\int_{-\\infty}^{+\\infty} \\frac{\\sqrt{2}}{4\\pi\\sqrt{\\pi}} \\frac{x^2}{(\\frac{x^2}{2}+1)} \\,dx$$\n",
    "\n",
    "\n",
    "$$= \\int_{-\\infty}^{+\\infty} \\frac{\\sqrt{2}}{2\\pi\\sqrt{\\pi}}\\frac{x^2}{x^2+2} \\,dx = \\int_{-\\infty}^{+\\infty} \\frac{\\sqrt{2}}{2\\pi\\sqrt{\\pi}}(1 - \\frac{2}{x^2+2}) \\,dx \\to \\infty $$\n",
    "\n",
    "Since the second moment is not finite, estimator does not have finite variance."
   ]
  },
  {
   "cell_type": "markdown",
   "id": "cf46c6cb",
   "metadata": {},
   "source": [
    "---"
   ]
  },
  {
   "cell_type": "markdown",
   "id": "4b182da4",
   "metadata": {},
   "source": [
    "### Question 2"
   ]
  },
  {
   "cell_type": "markdown",
   "id": "005b7ae7",
   "metadata": {},
   "source": [
    "(a) If $\\large{sup \\frac{f(x)}{g(x)} < \\infty}$, then $\\large{sup \\frac{\\tilde{f(x)} }{\\tilde{g(x)} } = \\frac{a}{b} sup \\frac{f(x)}{g(x)} < \\infty}$ iff $\\large{\\frac{a}{b}}$ is finite "
   ]
  },
  {
   "cell_type": "markdown",
   "id": "60efa66b",
   "metadata": {},
   "source": [
    "(b) To estimate the mean of target density, importance sampling has a benefit over accept-reject that it is faster because a particular proposal might get rejected in accept-reject but in importance sampling proposals are always accepted."
   ]
  },
  {
   "cell_type": "markdown",
   "id": "823ac190",
   "metadata": {},
   "source": [
    "---"
   ]
  },
  {
   "cell_type": "markdown",
   "id": "b442c155",
   "metadata": {},
   "source": [
    "### Question 3"
   ]
  },
  {
   "cell_type": "code",
   "execution_count": 1,
   "id": "50a8c94f",
   "metadata": {},
   "outputs": [
    {
     "data": {
      "text/plain": [
       "samp_y (generic function with 1 method)"
      ]
     },
     "execution_count": 1,
     "metadata": {},
     "output_type": "execute_result"
    }
   ],
   "source": [
    "using Distributions\n",
    "using Random\n",
    "Random.seed!(1)\n",
    "function samp_y(v,n)\n",
    "    sample = []\n",
    "    for i in 1:n\n",
    "        x = rand(TDist(v))\n",
    "        push!(sample,x)\n",
    "    end\n",
    "    return sample\n",
    "end\n"
   ]
  },
  {
   "cell_type": "code",
   "execution_count": 2,
   "id": "4aa8a03d",
   "metadata": {
    "scrolled": false
   },
   "outputs": [
    {
     "name": "stdout",
     "output_type": "stream",
     "text": [
      "For v = 5: Expectation = -0.13206374634478935;   Variance = 0.022988940648935332\n"
     ]
    }
   ],
   "source": [
    "function target(v,n,x)\n",
    "    val = 1\n",
    "    y = samp_y(v,n)\n",
    "    num = 0\n",
    "    denom = 0\n",
    "    for i in 1:n\n",
    "        val *=(1 + ((y[i] - x)*(y[i] - x)/v))^(-(v+1)/2)\n",
    "    end\n",
    "    return val\n",
    "end\n",
    "\n",
    "function first_moment(v,n,N)\n",
    "    num = 0\n",
    "    denom = 0\n",
    "    \n",
    "    for i in 1:N\n",
    "        x = rand(Normal(0,1))\n",
    "        fac = (sqrt(2*pi))\n",
    "        sam = fac*target(v,n,x)\n",
    "        num += x*sam\n",
    "        denom += sam\n",
    "    end\n",
    "    return num/denom\n",
    "end\n",
    "\n",
    "function second_moment(v,n,N)\n",
    "    num = 0\n",
    "    denom = 0\n",
    "    \n",
    "    for i in 1:N\n",
    "        x = rand(Normal(0,1))\n",
    "        fac = (sqrt(2*pi))\n",
    "        sam = fac*target(v,n,x)\n",
    "        num += x*x*sam\n",
    "        denom += sam\n",
    "    end\n",
    "    return num/denom\n",
    "end\n",
    "\n",
    "e1 = first_moment(5,50,10000)\n",
    "e2 = second_moment(5,50,10000)\n",
    "var = e2-(e1)^2\n",
    "println(\"For v = 5: Expectation = \", e1,\";   Variance = \",var)\n"
   ]
  },
  {
   "cell_type": "code",
   "execution_count": 3,
   "id": "b8b214c4",
   "metadata": {},
   "outputs": [
    {
     "name": "stdout",
     "output_type": "stream",
     "text": [
      "For v = 1: Expectation = -0.2956177611094221;   Variance = -0.06938755390440102\n"
     ]
    }
   ],
   "source": [
    "e1 = first_moment(1,50,10000)\n",
    "e2 = second_moment(1,50,10000)\n",
    "var = e2-(e1)^2\n",
    "println(\"For v = 1: Expectation = \", e1,\";   Variance = \",var)"
   ]
  },
  {
   "cell_type": "code",
   "execution_count": 4,
   "id": "7859b7ef",
   "metadata": {},
   "outputs": [
    {
     "name": "stdout",
     "output_type": "stream",
     "text": [
      "For v = 2: Expectation = 0.22627280489282034;   Variance = 0.0040950556326433685\n"
     ]
    }
   ],
   "source": [
    "e1 = first_moment(2,50,10000)\n",
    "e2 = second_moment(2,50,10000)\n",
    "var = e2-(e1)^2\n",
    "println(\"For v = 2: Expectation = \", e1,\";   Variance = \",var)"
   ]
  },
  {
   "cell_type": "markdown",
   "id": "1f190327",
   "metadata": {},
   "source": [
    "#### In all the cases, the variance is finite. "
   ]
  },
  {
   "cell_type": "markdown",
   "id": "b54e2016",
   "metadata": {},
   "source": [
    "---"
   ]
  },
  {
   "cell_type": "markdown",
   "id": "82e2e3ef",
   "metadata": {},
   "source": [
    "### Question  4"
   ]
  },
  {
   "cell_type": "markdown",
   "id": "d31e3b30",
   "metadata": {},
   "source": [
    "We take the pdf of Gamma$(\\alpha,\\beta)$ as $\\large{\\frac{\\beta^\\alpha}{\\Gamma(\\alpha)}x^{\\alpha-1}  e^{-\\beta x}}$ \n",
    "\n",
    "So, $$f(\\lambda) = \\frac{\\beta^\\alpha}{\\Gamma(\\alpha)}\\lambda^{\\alpha-1}  e^{-\\beta \\lambda}$$\n",
    "\n",
    "Now, $$f(Y_1,Y_2,...,Y_n|\\lambda) = \\prod_{i=1}^{n} e^{-\\lambda} \\frac{\\lambda^{Y_i}}{{Y_i}!}$$\n",
    "\n",
    "Therefore, $$f(Y_1,Y_2,...,Y_n|\\lambda) \\propto e^{-n\\lambda} \\lambda^{\\sum_{n=1}^{\\infty} Y_i}$$\n",
    "\n",
    "\n",
    "We need to find $$f(\\lambda|Y_1,Y_2,...,Y_n)$$\n",
    "\n",
    "$$\\propto f(Y_1,Y_2,...,Y_n|\\lambda) \\times f(\\lambda) $$\n",
    "\n",
    "$$\\propto e^{-n\\lambda} \\lambda^{\\sum_{n=1}^{\\infty} Y_i} \\frac{\\beta^\\alpha}{\\Gamma(\\alpha)}\\lambda^{\\alpha-1}  e^{-\\beta \\lambda}$$\n",
    "\n",
    "Let $Y = \\sum_{n=1}^{\\infty} Y_i$\n",
    "Then, $$f(\\lambda|Y_1,Y_2,...,Y_n) \\propto \\lambda^{(Y+\\alpha)-1} e^{-(\\beta + n)\\lambda}$$\n",
    "\n",
    "Hence, the posterior distribution of $\\lambda$ must be Gamma$(Y+\\alpha,\\beta+n)$"
   ]
  }
 ],
 "metadata": {
  "kernelspec": {
   "display_name": "Julia 1.7.2",
   "language": "julia",
   "name": "julia-1.7"
  },
  "language_info": {
   "file_extension": ".jl",
   "mimetype": "application/julia",
   "name": "julia",
   "version": "1.7.2"
  }
 },
 "nbformat": 4,
 "nbformat_minor": 5
}
