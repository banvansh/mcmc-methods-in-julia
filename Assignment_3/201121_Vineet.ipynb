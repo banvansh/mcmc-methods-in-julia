{
 "cells": [
  {
   "cell_type": "markdown",
   "id": "4349e771",
   "metadata": {},
   "source": [
    "## Question 1"
   ]
  },
  {
   "cell_type": "code",
   "execution_count": 3,
   "id": "15f0ecf3",
   "metadata": {},
   "outputs": [
    {
     "name": "stdout",
     "output_type": "stream",
     "text": [
      "0.7557627309781447"
     ]
    }
   ],
   "source": [
    "using Distributions\n",
    "using PGFPlotsX\n",
    "using Plots\n",
    "import Random\n",
    "Random.seed!(1)   # Setting the seed\n",
    "\n",
    "# Fixing thetha and u for cauchy distribution\n",
    "thetha = 2\n",
    "mu = 0\n",
    "\n",
    "# Fixing number of samples\n",
    "N = 10^5\n",
    "\n",
    "# Taking samples from Normal(0,1)\n",
    "G = Normal(0.0, 1.0)\n",
    "Z = rand(G,N)\n",
    "\n",
    "# Estimating the mean of cauchy distribution\n",
    "sample = []\n",
    "for i in Z\n",
    "    v = (sqrt(2 * π) * ℯ^((i^2)/2) * thetha)/(π * (thetha^2 + (i - mu)^2))\n",
    "    push!(sample,v)\n",
    "end\n",
    "\n",
    "mean_est = mean(sample)\n",
    "print(mean_est)  # Mean of the distribution"
   ]
  },
  {
   "cell_type": "markdown",
   "id": "85bef783",
   "metadata": {},
   "source": [
    "## Question 2"
   ]
  },
  {
   "cell_type": "markdown",
   "id": "dbaec4b5",
   "metadata": {},
   "source": [
    "a. Even though the simple importance estimator has a finite variance it does not guarantee that the weighted importance estimator also have finite variance because variance of simple imp. estimator imposes a lower bound on variance of weighted imp. estimator only, there is no information about an upper bound."
   ]
  },
  {
   "cell_type": "markdown",
   "id": "8897c796",
   "metadata": {},
   "source": [
    "b. With Importance sampling and better choice of G (importance distribution) we can get a an estimator with less variance.\n",
    "In accept reject sampling all the proposed samples are not accepted for estimation, and in case if we have chosen a c much larger then the sampling process will take long time to converge. While in importance sampling all the proposed samples are used for estimation. So the importance sampling is quicker in comparison to accept reject."
   ]
  },
  {
   "cell_type": "markdown",
   "id": "fd1dd33f",
   "metadata": {},
   "source": [
    "## Question 4"
   ]
  },
  {
   "cell_type": "markdown",
   "id": "c8a5bcff",
   "metadata": {},
   "source": [
    "$\n",
    "Y_{1},Y_{2},Y_{3},....,Y_{n}|\\lambda \\sim Poisson(\\lambda)\\\\\n",
    "\\lambda\\sim Gamma(\\alpha,\\beta)\\\\\n",
    "\\text{We have to find...}\\\\\n",
    "\\pi(\\lambda|Y_{1},Y_{2},Y_{3},....,Y_{n}) \\propto Poisson(\\lambda) * Gamma(\\alpha,\\beta)\\\\\n",
    "\\pi(\\lambda|y) \\propto \\pi(\\lambda) * \\prod_{i=1}^{n} \\frac{e^{-\\lambda} * \\lambda^{y_{i}}}{y_{i}!}\\\\\n",
    "= \\frac{1}{\\Gamma(\\alpha)} * \\lambda^{\\alpha-1} * \\beta^{-\\alpha} * e^{\\frac{-\\lambda}{\\beta}} * e^{-n\\lambda} * \\frac{\\lambda^{\\sum_{i=1}^{n}}}{\\prod_{i=1}^{n}{y_{i}!}}\n",
    "$"
   ]
  },
  {
   "cell_type": "markdown",
   "id": "05c5b2ae",
   "metadata": {},
   "source": [
    "Even after simplifying It doest not appear like a known distribution form"
   ]
  }
 ],
 "metadata": {
  "kernelspec": {
   "display_name": "Julia 1.7.2",
   "language": "julia",
   "name": "julia-1.7"
  },
  "language_info": {
   "file_extension": ".jl",
   "mimetype": "application/julia",
   "name": "julia",
   "version": "1.7.2"
  }
 },
 "nbformat": 4,
 "nbformat_minor": 5
}
