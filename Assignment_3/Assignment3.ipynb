{
 "cells": [
  {
   "cell_type": "code",
   "execution_count": 68,
   "id": "bc4d38db",
   "metadata": {},
   "outputs": [],
   "source": [
    "using Distributions\n",
    "using Plots\n",
    "using Random"
   ]
  },
  {
   "cell_type": "markdown",
   "id": "fc20b45a",
   "metadata": {},
   "source": [
    "# Question 1"
   ]
  },
  {
   "cell_type": "code",
   "execution_count": 85,
   "id": "13eac809",
   "metadata": {},
   "outputs": [
    {
     "data": {
      "text/plain": [
       "estimator (generic function with 1 method)"
      ]
     },
     "execution_count": 85,
     "metadata": {},
     "output_type": "execute_result"
    }
   ],
   "source": [
    "function estimator(x)\n",
    "    return x*sqrt(2/π)/((1+x^2)*ℯ^((-x^2)/2))\n",
    "end"
   ]
  },
  {
   "cell_type": "code",
   "execution_count": 92,
   "id": "6976e5fa",
   "metadata": {},
   "outputs": [
    {
     "data": {
      "text/plain": [
       "cauchymean (generic function with 1 method)"
      ]
     },
     "execution_count": 92,
     "metadata": {},
     "output_type": "execute_result"
    }
   ],
   "source": [
    "function cauchymean(n)\n",
    "    prop=rand(Normal(),n)\n",
    "    q=[]\n",
    "    for i in prop\n",
    "        push!(q,estimator(i))\n",
    "    end\n",
    "    \n",
    "    theta_hat = mean(q)\n",
    "    print( var(q))\n",
    "    return theta_hat\n",
    "end\n",
    "    \n",
    "    "
   ]
  },
  {
   "cell_type": "code",
   "execution_count": 96,
   "id": "a07e2aba",
   "metadata": {},
   "outputs": [
    {
     "name": "stdout",
     "output_type": "stream",
     "text": [
      "Variance = 289.9715967162064"
     ]
    },
    {
     "data": {
      "text/plain": [
       "-0.09547506676093846"
      ]
     },
     "execution_count": 96,
     "metadata": {},
     "output_type": "execute_result"
    }
   ],
   "source": [
    "print(\"Variance = \")\n",
    "cauchymean(100000)"
   ]
  },
  {
   "cell_type": "markdown",
   "id": "4a9e50f4",
   "metadata": {},
   "source": [
    "We 'verify' that the variance is infinite since it is giving very high value. It was also expected since ratio of both diverges to infinity."
   ]
  },
  {
   "cell_type": "markdown",
   "id": "db30e65e",
   "metadata": {},
   "source": [
    "# Question 2\n",
    "\n",
    "1. Yes. Intuitively I can say that both numerator and denominator in the $\\theta_w$ will have finite variance. But we can also look at the formula $\\sigma_g^2 (1+\\frac{Var_g(w(z))}{E_g(w(z))^2})$ which will give us a finite value since $\\sigma_g $ is finite.\n",
    "2. Yes. Firstly we can use any proposal rather than looking at appropriate proposal for accept-reject. Secondly, the program will work much faster since we don't have to reject any value. And thirdly, we know the variance of importance sampling is less than accept-reject, hence, more accurate results."
   ]
  },
  {
   "cell_type": "markdown",
   "id": "c6f00deb",
   "metadata": {},
   "source": [
    "# Question 3"
   ]
  },
  {
   "cell_type": "code",
   "execution_count": 71,
   "id": "705b35b1",
   "metadata": {},
   "outputs": [
    {
     "data": {
      "text/plain": [
       "TaskLocalRNG()"
      ]
     },
     "execution_count": 71,
     "metadata": {},
     "output_type": "execute_result"
    }
   ],
   "source": [
    "Random.seed!(1)"
   ]
  },
  {
   "cell_type": "code",
   "execution_count": 72,
   "id": "43c73b6b",
   "metadata": {},
   "outputs": [
    {
     "data": {
      "text/plain": [
       "tdist (generic function with 1 method)"
      ]
     },
     "execution_count": 72,
     "metadata": {},
     "output_type": "execute_result"
    }
   ],
   "source": [
    "function tdist(n,v)\n",
    "    y=rand(TDist(v),n)\n",
    "    y_list = []\n",
    "    for i in y\n",
    "        push!(y_list, y)\n",
    "    end\n",
    "    return y_list\n",
    "end\n",
    "  "
   ]
  },
  {
   "cell_type": "code",
   "execution_count": 73,
   "id": "f444fc5e",
   "metadata": {},
   "outputs": [
    {
     "data": {
      "text/plain": [
       "pi_gen (generic function with 1 method)"
      ]
     },
     "execution_count": 73,
     "metadata": {},
     "output_type": "execute_result"
    }
   ],
   "source": [
    "function pi_gen(x::Float64,n::Integer,v::Integer)\n",
    "    y=rand(TDist(v),n)\n",
    "    \n",
    "    pi_x = ℯ^(-x^2/2)\n",
    "    for i in y\n",
    "        pi_x = pi_x*((1+((i-x)^2/v))^(-(v+1)/2))\n",
    "    end\n",
    "    \n",
    "    return pi_x\n",
    "end\n"
   ]
  },
  {
   "cell_type": "code",
   "execution_count": 74,
   "id": "07c9e714",
   "metadata": {},
   "outputs": [
    {
     "data": {
      "text/plain": [
       "theta_w (generic function with 1 method)"
      ]
     },
     "execution_count": 74,
     "metadata": {},
     "output_type": "execute_result"
    }
   ],
   "source": [
    "function theta_w(N::Integer,n::Integer,v::Integer)\n",
    "    numerator = denominator = 0\n",
    "    for i in range(1,N)\n",
    "        z = rand(Normal(),1)[1] \n",
    "        numerator = numerator + z*pi_gen(z,n,v)*sqrt(2π)/ℯ^(-z^2/2)\n",
    "        denominator = denominator + pi_gen(z,n,v)*sqrt(2π)/ℯ^(-z^2/2)\n",
    "    end\n",
    "    return numerator/denominator\n",
    "end\n"
   ]
  },
  {
   "cell_type": "code",
   "execution_count": null,
   "id": "fe6c369c",
   "metadata": {},
   "outputs": [],
   "source": []
  },
  {
   "cell_type": "code",
   "execution_count": 84,
   "id": "9649ac73",
   "metadata": {},
   "outputs": [
    {
     "data": {
      "text/plain": [
       "0.19680069374219178"
      ]
     },
     "execution_count": 84,
     "metadata": {},
     "output_type": "execute_result"
    }
   ],
   "source": [
    "theta_r=[]\n",
    "for i in range(1,50)\n",
    "    push!(theta_r,theta_w(10^5,50,5))\n",
    "end\n",
    "\n",
    "var(theta_r)*50"
   ]
  },
  {
   "cell_type": "markdown",
   "id": "7e70ace4",
   "metadata": {},
   "source": [
    "Variance is increasing with increasing n. It implies that variance might be infinite."
   ]
  },
  {
   "cell_type": "code",
   "execution_count": 98,
   "id": "d3b9fb18",
   "metadata": {},
   "outputs": [
    {
     "data": {
      "text/plain": [
       "105.98089141874449"
      ]
     },
     "execution_count": 98,
     "metadata": {},
     "output_type": "execute_result"
    }
   ],
   "source": [
    "theta_r=[]\n",
    "for i in range(1,50)\n",
    "    push!(theta_r,theta_w(10^5,50,2))\n",
    "end\n",
    "\n",
    "var(theta_r)*50"
   ]
  },
  {
   "cell_type": "code",
   "execution_count": 99,
   "id": "186dc3dd",
   "metadata": {},
   "outputs": [
    {
     "data": {
      "text/plain": [
       "4.522066675579061e7"
      ]
     },
     "execution_count": 99,
     "metadata": {},
     "output_type": "execute_result"
    }
   ],
   "source": [
    "theta_r=[]\n",
    "for i in range(1,50)\n",
    "    push!(theta_r,theta_w(10^5,50,1))\n",
    "end\n",
    "\n",
    "var(theta_r)*50"
   ]
  },
  {
   "cell_type": "markdown",
   "id": "4c18f898",
   "metadata": {},
   "source": [
    "Variance is also infinite for $\\nu = 1,2$ and increases on decreasing $\\nu$"
   ]
  },
  {
   "cell_type": "markdown",
   "id": "3a1f8ca6",
   "metadata": {},
   "source": [
    "# Question 4\n",
    "MLE for the Poisson is $$\\frac{e^{-n\\lambda}\\lambda^{\\sum_{i=1}^n}x_i}{\\prod_{i=a}^{b} (x_i !)}$$\n",
    "\n",
    "So Posterior ~ $MLE* Gamma = \\lambda^{\\sum x_i + \\alpha -1} e^{-(n+\\beta)\\lambda}$\n",
    "$\\implies Gamma(\\sum x_i +\\alpha, n+\\beta)$\n",
    "\n"
   ]
  },
  {
   "cell_type": "code",
   "execution_count": null,
   "id": "bc4e6b7c",
   "metadata": {},
   "outputs": [],
   "source": []
  }
 ],
 "metadata": {
  "kernelspec": {
   "display_name": "Julia 1.7.2",
   "language": "julia",
   "name": "julia-1.7"
  },
  "language_info": {
   "file_extension": ".jl",
   "mimetype": "application/julia",
   "name": "julia",
   "version": "1.7.2"
  }
 },
 "nbformat": 4,
 "nbformat_minor": 5
}
