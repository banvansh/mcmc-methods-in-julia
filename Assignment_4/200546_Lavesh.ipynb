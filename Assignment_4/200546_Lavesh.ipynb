{
 "cells": [
  {
   "cell_type": "markdown",
   "metadata": {},
   "source": [
    "# Assignment 4\n",
    "\n"
   ]
  },
  {
   "cell_type": "markdown",
   "metadata": {},
   "source": [
    "## First Question "
   ]
  },
  {
   "cell_type": "markdown",
   "metadata": {},
   "source": [
    "Our main motivation to introduce Markov chain was to approximately sample from complicated distributions. The normal way of sampling($X_{i}$) would be better.                \n",
    "\n",
    "$X_{i}$ is already a sample from F, while $Y_{i}$ gets more close after more number of steps. This also indicates that $\\bar{X}$ should be a better estimator.                      \n",
    "\n",
    "$ Var(\\bar{X}) = \\frac{Var(\\sum_{i=1}^{\\infty}X_{i})}{n^2}  $                            $ = \\frac{Var(X_{1})}{n}$   (All $X_{i}$ are iid)                            \n",
    "                         \n",
    "For Markov chain, similarly we will calculate the variance and in addition to this, we will also get the covariance terms since $Y_{i}$ is related to $Y_{i-1}$. This would definitely increase the variance."
   ]
  },
  {
   "cell_type": "markdown",
   "metadata": {},
   "source": [
    "## Second Question"
   ]
  },
  {
   "cell_type": "markdown",
   "metadata": {},
   "source": [
    "(a)     Consider f to be the relevant distribution function according to the domain. \n",
    "I will not write the constants.\n",
    "\n",
    "\n",
    "\n",
    "### $ f(\\mu,\\nu | Y) \\propto f(y|\\mu)f(\\mu|\\nu)f(\\nu) \\propto e^{ \\sum_{i=1}^{N} \\frac{(X_{i}-\\mu)^2}{2}} \\frac{\\Gamma(\\frac{\\nu+1}{2})}{\\Gamma(\\nu/2)} \\frac{(1+\\mu^2/\\nu)^\\frac{-(\\nu+1)}{2}}{\\nu^{0.5}} \\nu^{a_{0}-1}e^{\\frac{\\nu}{b_{0}}}I_{\\nu}(2,\\infty)      $\n",
    "\n",
    "\n",
    "\n",
    "\n",
    "\n",
    "\n",
    "(b) To sample we will choose Q(x,.) to be the normal distribution as in Example 5 in notes and do the MH algorithm\n",
    "\n",
    "\n",
    "\n",
    "\n",
    "\n",
    "\n",
    "(c)"
   ]
  }
 ],
 "metadata": {
  "kernelspec": {
   "display_name": "Julia 1.7.2",
   "language": "julia",
   "name": "julia-1.7"
  },
  "language_info": {
   "file_extension": ".jl",
   "mimetype": "application/julia",
   "name": "julia",
   "version": "1.7.2"
  },
  "orig_nbformat": 4
 },
 "nbformat": 4,
 "nbformat_minor": 2
}
