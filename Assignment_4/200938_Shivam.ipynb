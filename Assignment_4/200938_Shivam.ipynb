{
 "cells": [
  {
   "cell_type": "markdown",
   "id": "d4781629",
   "metadata": {},
   "source": [
    "# Assignment 4"
   ]
  },
  {
   "cell_type": "markdown",
   "id": "be6489b2",
   "metadata": {},
   "source": [
    "## Que 2"
   ]
  },
  {
   "cell_type": "markdown",
   "id": "f8787ded",
   "metadata": {},
   "source": [
    "Joint Probability Distribution"
   ]
  },
  {
   "cell_type": "markdown",
   "id": "6af33a87",
   "metadata": {},
   "source": [
    "<h2>$\\pi(\\mu,\\nu|y)\t\\propto \\pi(\\mu,\\nu)f(y|\\mu,\\nu)$</h2>"
   ]
  },
  {
   "cell_type": "markdown",
   "id": "a725b719",
   "metadata": {},
   "source": [
    "<h2>$\\pi(\\mu,\\nu|y)\t\\propto \\frac{\\nu^{a_o-1}e^{b_o\\nu}\\Gamma(\\frac{v+1}{2})}{\\sqrt{\\nu}\\Gamma(\\frac{v}{2})(1+\\frac{\\mu^2}{\\nu})^{\\frac{v+1}{2}}}\\prod_{i=1}^{n} e^{-\\frac{(y_i-\\mu)^{2}}{2}}$</h2>"
   ]
  },
  {
   "cell_type": "markdown",
   "id": "304e9b7b",
   "metadata": {},
   "source": [
    "MH Algorithm:"
   ]
  },
  {
   "cell_type": "markdown",
   "id": "ed12a248",
   "metadata": {},
   "source": [
    "Choose a starting calue of y, \\nu, \\mu"
   ]
  },
  {
   "cell_type": "markdown",
   "id": "71108d63",
   "metadata": {},
   "source": [
    "Draw a proposed value \\nuv^*\\sim Truncated Gamma(a_o, b_o,(2,\\infty))$"
   ]
  },
  {
   "cell_type": "markdown",
   "id": "0fc7fcce",
   "metadata": {},
   "source": [
    "Then draw $\\mu^*\\sim t_{\\nu}$"
   ]
  },
  {
   "cell_type": "markdown",
   "id": "79290b42",
   "metadata": {},
   "source": [
    "Finally draw $y^*\\sim N(\\mu, 1)$"
   ]
  },
  {
   "cell_type": "markdown",
   "id": "bf613c46",
   "metadata": {},
   "source": [
    "Calculate <h5>$\\alpha = min\\{1, \\frac{\\pi(\\mu^*,\\nu^*|y)}{\\pi(\\mu,\\nu|y)}\\}$</h5>"
   ]
  },
  {
   "cell_type": "markdown",
   "id": "bd23c8ad",
   "metadata": {},
   "source": [
    "Draw $U \\sim U[0,1]$"
   ]
  },
  {
   "cell_type": "markdown",
   "id": "39cc8586",
   "metadata": {},
   "source": [
    "If $U < \\alpha$ set $y = y^*$, $\\mu = \\mu^*$ and $\\nu = \\nu^*$ else run loop again with same y, $\\mu$ and $\\nu$"
   ]
  },
  {
   "cell_type": "markdown",
   "id": "20b5aa95",
   "metadata": {},
   "source": [
    "Implementation in Julia"
   ]
  },
  {
   "cell_type": "code",
   "execution_count": null,
   "id": "ff9673f6",
   "metadata": {},
   "outputs": [],
   "source": []
  },
  {
   "cell_type": "code",
   "execution_count": 1,
   "id": "d1ae6893",
   "metadata": {},
   "outputs": [],
   "source": [
    "import Pkg"
   ]
  },
  {
   "cell_type": "code",
   "execution_count": 2,
   "id": "4828cbe3",
   "metadata": {
    "scrolled": false
   },
   "outputs": [
    {
     "name": "stderr",
     "output_type": "stream",
     "text": [
      "\u001b[32m\u001b[1m    Updating\u001b[22m\u001b[39m registry at `C:\\Users\\anura\\.julia\\registries\\General.toml`\n",
      "\u001b[32m\u001b[1m   Resolving\u001b[22m\u001b[39m package versions...\n",
      "\u001b[32m\u001b[1m  No Changes\u001b[22m\u001b[39m to `C:\\Users\\anura\\.julia\\environments\\v1.7\\Project.toml`\n",
      "\u001b[32m\u001b[1m  No Changes\u001b[22m\u001b[39m to `C:\\Users\\anura\\.julia\\environments\\v1.7\\Manifest.toml`\n"
     ]
    }
   ],
   "source": [
    "Pkg.add(\"Distributions\")"
   ]
  },
  {
   "cell_type": "code",
   "execution_count": 3,
   "id": "e564332e",
   "metadata": {
    "scrolled": false
   },
   "outputs": [
    {
     "name": "stderr",
     "output_type": "stream",
     "text": [
      "\u001b[32m\u001b[1m   Resolving\u001b[22m\u001b[39m package versions...\n",
      "\u001b[32m\u001b[1m  No Changes\u001b[22m\u001b[39m to `C:\\Users\\anura\\.julia\\environments\\v1.7\\Project.toml`\n",
      "\u001b[32m\u001b[1m  No Changes\u001b[22m\u001b[39m to `C:\\Users\\anura\\.julia\\environments\\v1.7\\Manifest.toml`\n"
     ]
    }
   ],
   "source": [
    "Pkg.add(\"SpecialFunctions\")"
   ]
  },
  {
   "cell_type": "code",
   "execution_count": 4,
   "id": "341a8520",
   "metadata": {},
   "outputs": [],
   "source": [
    "using SpecialFunctions"
   ]
  },
  {
   "cell_type": "code",
   "execution_count": 5,
   "id": "4e33fa1f",
   "metadata": {
    "scrolled": false
   },
   "outputs": [
    {
     "data": {
      "text/plain": [
       "TaskLocalRNG()"
      ]
     },
     "execution_count": 5,
     "metadata": {},
     "output_type": "execute_result"
    }
   ],
   "source": [
    "using Distributions\n",
    "using Random\n",
    "using Plots\n",
    "Random.seed!(42)"
   ]
  },
  {
   "cell_type": "code",
   "execution_count": 6,
   "id": "51395e7f",
   "metadata": {},
   "outputs": [],
   "source": [
    "using(StatsPlots)"
   ]
  },
  {
   "cell_type": "code",
   "execution_count": 7,
   "id": "fee3ea95",
   "metadata": {
    "scrolled": false
   },
   "outputs": [
    {
     "data": {
      "text/plain": [
       "1"
      ]
     },
     "execution_count": 7,
     "metadata": {},
     "output_type": "execute_result"
    }
   ],
   "source": [
    "a0 = 2\n",
    "b0=0.1\n",
    "mu1 = 0\n",
    "nu1 = 3\n",
    "y1 = 1"
   ]
  },
  {
   "cell_type": "code",
   "execution_count": 8,
   "id": "d7d176a3",
   "metadata": {},
   "outputs": [],
   "source": [
    "y = []\n",
    "push!(y,y1)\n",
    "n=1\n",
    "while n < 200\n",
    "    nu2 = rand(Truncated(Gamma(a0, b0), 2, Inf))\n",
    "    mu2 = rand(TDist(nu1))\n",
    "    y2 = rand(Normal(mu1, 1))\n",
    "    alpha = min(1, (nu2^(a0-1)*(exp(b0*nu2))*gamma((nu2+1)/2))*exp((-1*(y1-mu2)^2)/2)/((sqrt(nu2))*gamma(nu2/2)*((1+(mu2^2)/nu2)^((nu2+1)/2)))/(nu1^(a0-1)*(exp(b0*nu1))*gamma((nu1+1)/2))*exp((-1*(y1-mu1)^2)/2)/((sqrt(nu1))*gamma(nu1/2)*((1+(mu1^2)/nu1)^((nu1+1)/2))))\n",
    "    u = rand(Uniform(0,1))\n",
    "    if(u<alpha)\n",
    "        push!(y,y2)\n",
    "        nu1 = nu2\n",
    "        mu1 = mu2\n",
    "        y1 = y2\n",
    "        n = n+1\n",
    "    end\n",
    "end"
   ]
  },
  {
   "cell_type": "code",
   "execution_count": 9,
   "id": "5e3b3578",
   "metadata": {
    "scrolled": false
   },
   "outputs": [
    {
     "data": {
      "text/plain": [
       "200-element Vector{Any}:\n",
       "  1\n",
       " -0.31074387308373413\n",
       "  2.1143510325501236\n",
       "  0.21503370498850372\n",
       "  0.3930689028888581\n",
       " -1.1207959980264603\n",
       " -1.3743640146312757\n",
       " -1.3291136694165333\n",
       " -0.04326774124655919\n",
       " -0.014299163798994818\n",
       "  1.1823551661796716\n",
       "  1.361438638344255\n",
       "  0.11430726628940835\n",
       "  ⋮\n",
       " -1.8502092879768322\n",
       "  0.9407479924067064\n",
       " -0.041275989847736394\n",
       "  1.6989545125995618\n",
       "  1.6307801975644067\n",
       "  0.8236541278147212\n",
       "  0.4764019149753688\n",
       " -1.8600965172149555\n",
       " -1.3701697521331406\n",
       "  0.5367700254963585\n",
       "  0.06321507871347232\n",
       "  0.08057648694881935"
      ]
     },
     "execution_count": 9,
     "metadata": {},
     "output_type": "execute_result"
    }
   ],
   "source": [
    "y"
   ]
  },
  {
   "cell_type": "code",
   "execution_count": 10,
   "id": "b7645d6d",
   "metadata": {
    "scrolled": true
   },
   "outputs": [
    {
     "data": {
      "image/svg+xml": [
       "<?xml version=\"1.0\" encoding=\"utf-8\"?>\n",
       "<svg xmlns=\"http://www.w3.org/2000/svg\" xmlns:xlink=\"http://www.w3.org/1999/xlink\" width=\"600\" height=\"400\" viewBox=\"0 0 2400 1600\">\n",
       "<defs>\n",
       "  <clipPath id=\"clip860\">\n",
       "    <rect x=\"0\" y=\"0\" width=\"2400\" height=\"1600\"/>\n",
       "  </clipPath>\n",
       "</defs>\n",
       "<path clip-path=\"url(#clip860)\" d=\"\n",
       "M0 1600 L2400 1600 L2400 0 L0 0  Z\n",
       "  \" fill=\"#ffffff\" fill-rule=\"evenodd\" fill-opacity=\"1\"/>\n",
       "<defs>\n",
       "  <clipPath id=\"clip861\">\n",
       "    <rect x=\"480\" y=\"0\" width=\"1681\" height=\"1600\"/>\n",
       "  </clipPath>\n",
       "</defs>\n",
       "<path clip-path=\"url(#clip860)\" d=\"\n",
       "M147.478 1486.45 L2352.76 1486.45 L2352.76 47.2441 L147.478 47.2441  Z\n",
       "  \" fill=\"#ffffff\" fill-rule=\"evenodd\" fill-opacity=\"1\"/>\n",
       "<defs>\n",
       "  <clipPath id=\"clip862\">\n",
       "    <rect x=\"147\" y=\"47\" width=\"2206\" height=\"1440\"/>\n",
       "  </clipPath>\n",
       "</defs>\n",
       "<polyline clip-path=\"url(#clip862)\" style=\"stroke:#000000; stroke-linecap:butt; stroke-linejoin:round; stroke-width:2; stroke-opacity:0.1; fill:none\" points=\"\n",
       "  199.437,1486.45 199.437,47.2441 \n",
       "  \"/>\n",
       "<polyline clip-path=\"url(#clip862)\" style=\"stroke:#000000; stroke-linecap:butt; stroke-linejoin:round; stroke-width:2; stroke-opacity:0.1; fill:none\" points=\"\n",
       "  722.163,1486.45 722.163,47.2441 \n",
       "  \"/>\n",
       "<polyline clip-path=\"url(#clip862)\" style=\"stroke:#000000; stroke-linecap:butt; stroke-linejoin:round; stroke-width:2; stroke-opacity:0.1; fill:none\" points=\"\n",
       "  1244.89,1486.45 1244.89,47.2441 \n",
       "  \"/>\n",
       "<polyline clip-path=\"url(#clip862)\" style=\"stroke:#000000; stroke-linecap:butt; stroke-linejoin:round; stroke-width:2; stroke-opacity:0.1; fill:none\" points=\"\n",
       "  1767.62,1486.45 1767.62,47.2441 \n",
       "  \"/>\n",
       "<polyline clip-path=\"url(#clip862)\" style=\"stroke:#000000; stroke-linecap:butt; stroke-linejoin:round; stroke-width:2; stroke-opacity:0.1; fill:none\" points=\"\n",
       "  2290.34,1486.45 2290.34,47.2441 \n",
       "  \"/>\n",
       "<polyline clip-path=\"url(#clip860)\" style=\"stroke:#000000; stroke-linecap:butt; stroke-linejoin:round; stroke-width:4; stroke-opacity:1; fill:none\" points=\"\n",
       "  147.478,1486.45 2352.76,1486.45 \n",
       "  \"/>\n",
       "<polyline clip-path=\"url(#clip860)\" style=\"stroke:#000000; stroke-linecap:butt; stroke-linejoin:round; stroke-width:4; stroke-opacity:1; fill:none\" points=\"\n",
       "  199.437,1486.45 199.437,1467.55 \n",
       "  \"/>\n",
       "<polyline clip-path=\"url(#clip860)\" style=\"stroke:#000000; stroke-linecap:butt; stroke-linejoin:round; stroke-width:4; stroke-opacity:1; fill:none\" points=\"\n",
       "  722.163,1486.45 722.163,1467.55 \n",
       "  \"/>\n",
       "<polyline clip-path=\"url(#clip860)\" style=\"stroke:#000000; stroke-linecap:butt; stroke-linejoin:round; stroke-width:4; stroke-opacity:1; fill:none\" points=\"\n",
       "  1244.89,1486.45 1244.89,1467.55 \n",
       "  \"/>\n",
       "<polyline clip-path=\"url(#clip860)\" style=\"stroke:#000000; stroke-linecap:butt; stroke-linejoin:round; stroke-width:4; stroke-opacity:1; fill:none\" points=\"\n",
       "  1767.62,1486.45 1767.62,1467.55 \n",
       "  \"/>\n",
       "<polyline clip-path=\"url(#clip860)\" style=\"stroke:#000000; stroke-linecap:butt; stroke-linejoin:round; stroke-width:4; stroke-opacity:1; fill:none\" points=\"\n",
       "  2290.34,1486.45 2290.34,1467.55 \n",
       "  \"/>\n",
       "<path clip-path=\"url(#clip860)\" d=\"M199.437 1517.37 Q195.826 1517.37 193.997 1520.93 Q192.192 1524.47 192.192 1531.6 Q192.192 1538.71 193.997 1542.27 Q195.826 1545.82 199.437 1545.82 Q203.071 1545.82 204.877 1542.27 Q206.705 1538.71 206.705 1531.6 Q206.705 1524.47 204.877 1520.93 Q203.071 1517.37 199.437 1517.37 M199.437 1513.66 Q205.247 1513.66 208.303 1518.27 Q211.381 1522.85 211.381 1531.6 Q211.381 1540.33 208.303 1544.94 Q205.247 1549.52 199.437 1549.52 Q193.627 1549.52 190.548 1544.94 Q187.493 1540.33 187.493 1531.6 Q187.493 1522.85 190.548 1518.27 Q193.627 1513.66 199.437 1513.66 Z\" fill=\"#000000\" fill-rule=\"evenodd\" fill-opacity=\"1\" /><path clip-path=\"url(#clip860)\" d=\"M696.862 1514.29 L715.219 1514.29 L715.219 1518.22 L701.145 1518.22 L701.145 1526.7 Q702.163 1526.35 703.182 1526.19 Q704.2 1526 705.219 1526 Q711.006 1526 714.386 1529.17 Q717.765 1532.34 717.765 1537.76 Q717.765 1543.34 714.293 1546.44 Q710.821 1549.52 704.501 1549.52 Q702.325 1549.52 700.057 1549.15 Q697.812 1548.78 695.404 1548.04 L695.404 1543.34 Q697.487 1544.47 699.71 1545.03 Q701.932 1545.58 704.409 1545.58 Q708.413 1545.58 710.751 1543.48 Q713.089 1541.37 713.089 1537.76 Q713.089 1534.15 710.751 1532.04 Q708.413 1529.94 704.409 1529.94 Q702.534 1529.94 700.659 1530.35 Q698.807 1530.77 696.862 1531.65 L696.862 1514.29 Z\" fill=\"#000000\" fill-rule=\"evenodd\" fill-opacity=\"1\" /><path clip-path=\"url(#clip860)\" d=\"M736.978 1517.37 Q733.367 1517.37 731.538 1520.93 Q729.733 1524.47 729.733 1531.6 Q729.733 1538.71 731.538 1542.27 Q733.367 1545.82 736.978 1545.82 Q740.612 1545.82 742.418 1542.27 Q744.246 1538.71 744.246 1531.6 Q744.246 1524.47 742.418 1520.93 Q740.612 1517.37 736.978 1517.37 M736.978 1513.66 Q742.788 1513.66 745.844 1518.27 Q748.922 1522.85 748.922 1531.6 Q748.922 1540.33 745.844 1544.94 Q742.788 1549.52 736.978 1549.52 Q731.168 1549.52 728.089 1544.94 Q725.034 1540.33 725.034 1531.6 Q725.034 1522.85 728.089 1518.27 Q731.168 1513.66 736.978 1513.66 Z\" fill=\"#000000\" fill-rule=\"evenodd\" fill-opacity=\"1\" /><path clip-path=\"url(#clip860)\" d=\"M1204.5 1544.91 L1212.14 1544.91 L1212.14 1518.55 L1203.83 1520.21 L1203.83 1515.95 L1212.09 1514.29 L1216.76 1514.29 L1216.76 1544.91 L1224.4 1544.91 L1224.4 1548.85 L1204.5 1548.85 L1204.5 1544.91 Z\" fill=\"#000000\" fill-rule=\"evenodd\" fill-opacity=\"1\" /><path clip-path=\"url(#clip860)\" d=\"M1243.85 1517.37 Q1240.24 1517.37 1238.41 1520.93 Q1236.6 1524.47 1236.6 1531.6 Q1236.6 1538.71 1238.41 1542.27 Q1240.24 1545.82 1243.85 1545.82 Q1247.48 1545.82 1249.29 1542.27 Q1251.12 1538.71 1251.12 1531.6 Q1251.12 1524.47 1249.29 1520.93 Q1247.48 1517.37 1243.85 1517.37 M1243.85 1513.66 Q1249.66 1513.66 1252.71 1518.27 Q1255.79 1522.85 1255.79 1531.6 Q1255.79 1540.33 1252.71 1544.94 Q1249.66 1549.52 1243.85 1549.52 Q1238.04 1549.52 1234.96 1544.94 Q1231.9 1540.33 1231.9 1531.6 Q1231.9 1522.85 1234.96 1518.27 Q1238.04 1513.66 1243.85 1513.66 Z\" fill=\"#000000\" fill-rule=\"evenodd\" fill-opacity=\"1\" /><path clip-path=\"url(#clip860)\" d=\"M1274.01 1517.37 Q1270.4 1517.37 1268.57 1520.93 Q1266.76 1524.47 1266.76 1531.6 Q1266.76 1538.71 1268.57 1542.27 Q1270.4 1545.82 1274.01 1545.82 Q1277.64 1545.82 1279.45 1542.27 Q1281.28 1538.71 1281.28 1531.6 Q1281.28 1524.47 1279.45 1520.93 Q1277.64 1517.37 1274.01 1517.37 M1274.01 1513.66 Q1279.82 1513.66 1282.88 1518.27 Q1285.95 1522.85 1285.95 1531.6 Q1285.95 1540.33 1282.88 1544.94 Q1279.82 1549.52 1274.01 1549.52 Q1268.2 1549.52 1265.12 1544.94 Q1262.07 1540.33 1262.07 1531.6 Q1262.07 1522.85 1265.12 1518.27 Q1268.2 1513.66 1274.01 1513.66 Z\" fill=\"#000000\" fill-rule=\"evenodd\" fill-opacity=\"1\" /><path clip-path=\"url(#clip860)\" d=\"M1727.22 1544.91 L1734.86 1544.91 L1734.86 1518.55 L1726.55 1520.21 L1726.55 1515.95 L1734.82 1514.29 L1739.49 1514.29 L1739.49 1544.91 L1747.13 1544.91 L1747.13 1548.85 L1727.22 1548.85 L1727.22 1544.91 Z\" fill=\"#000000\" fill-rule=\"evenodd\" fill-opacity=\"1\" /><path clip-path=\"url(#clip860)\" d=\"M1756.62 1514.29 L1774.98 1514.29 L1774.98 1518.22 L1760.9 1518.22 L1760.9 1526.7 Q1761.92 1526.35 1762.94 1526.19 Q1763.96 1526 1764.98 1526 Q1770.76 1526 1774.14 1529.17 Q1777.52 1532.34 1777.52 1537.76 Q1777.52 1543.34 1774.05 1546.44 Q1770.58 1549.52 1764.26 1549.52 Q1762.08 1549.52 1759.82 1549.15 Q1757.57 1548.78 1755.16 1548.04 L1755.16 1543.34 Q1757.25 1544.47 1759.47 1545.03 Q1761.69 1545.58 1764.17 1545.58 Q1768.17 1545.58 1770.51 1543.48 Q1772.85 1541.37 1772.85 1537.76 Q1772.85 1534.15 1770.51 1532.04 Q1768.17 1529.94 1764.17 1529.94 Q1762.29 1529.94 1760.42 1530.35 Q1758.57 1530.77 1756.62 1531.65 L1756.62 1514.29 Z\" fill=\"#000000\" fill-rule=\"evenodd\" fill-opacity=\"1\" /><path clip-path=\"url(#clip860)\" d=\"M1796.74 1517.37 Q1793.13 1517.37 1791.3 1520.93 Q1789.49 1524.47 1789.49 1531.6 Q1789.49 1538.71 1791.3 1542.27 Q1793.13 1545.82 1796.74 1545.82 Q1800.37 1545.82 1802.18 1542.27 Q1804 1538.71 1804 1531.6 Q1804 1524.47 1802.18 1520.93 Q1800.37 1517.37 1796.74 1517.37 M1796.74 1513.66 Q1802.55 1513.66 1805.6 1518.27 Q1808.68 1522.85 1808.68 1531.6 Q1808.68 1540.33 1805.6 1544.94 Q1802.55 1549.52 1796.74 1549.52 Q1790.93 1549.52 1787.85 1544.94 Q1784.79 1540.33 1784.79 1531.6 Q1784.79 1522.85 1787.85 1518.27 Q1790.93 1513.66 1796.74 1513.66 Z\" fill=\"#000000\" fill-rule=\"evenodd\" fill-opacity=\"1\" /><path clip-path=\"url(#clip860)\" d=\"M2254.03 1544.91 L2270.35 1544.91 L2270.35 1548.85 L2248.41 1548.85 L2248.41 1544.91 Q2251.07 1542.16 2255.66 1537.53 Q2260.26 1532.88 2261.44 1531.53 Q2263.69 1529.01 2264.57 1527.27 Q2265.47 1525.51 2265.47 1523.82 Q2265.47 1521.07 2263.53 1519.33 Q2261.6 1517.6 2258.5 1517.6 Q2256.3 1517.6 2253.85 1518.36 Q2251.42 1519.13 2248.64 1520.68 L2248.64 1515.95 Q2251.47 1514.82 2253.92 1514.24 Q2256.37 1513.66 2258.41 1513.66 Q2263.78 1513.66 2266.97 1516.35 Q2270.17 1519.03 2270.17 1523.52 Q2270.17 1525.65 2269.36 1527.57 Q2268.57 1529.47 2266.47 1532.07 Q2265.89 1532.74 2262.78 1535.95 Q2259.68 1539.15 2254.03 1544.91 Z\" fill=\"#000000\" fill-rule=\"evenodd\" fill-opacity=\"1\" /><path clip-path=\"url(#clip860)\" d=\"M2290.17 1517.37 Q2286.56 1517.37 2284.73 1520.93 Q2282.92 1524.47 2282.92 1531.6 Q2282.92 1538.71 2284.73 1542.27 Q2286.56 1545.82 2290.17 1545.82 Q2293.8 1545.82 2295.61 1542.27 Q2297.44 1538.71 2297.44 1531.6 Q2297.44 1524.47 2295.61 1520.93 Q2293.8 1517.37 2290.17 1517.37 M2290.17 1513.66 Q2295.98 1513.66 2299.03 1518.27 Q2302.11 1522.85 2302.11 1531.6 Q2302.11 1540.33 2299.03 1544.94 Q2295.98 1549.52 2290.17 1549.52 Q2284.36 1549.52 2281.28 1544.94 Q2278.22 1540.33 2278.22 1531.6 Q2278.22 1522.85 2281.28 1518.27 Q2284.36 1513.66 2290.17 1513.66 Z\" fill=\"#000000\" fill-rule=\"evenodd\" fill-opacity=\"1\" /><path clip-path=\"url(#clip860)\" d=\"M2320.33 1517.37 Q2316.72 1517.37 2314.89 1520.93 Q2313.09 1524.47 2313.09 1531.6 Q2313.09 1538.71 2314.89 1542.27 Q2316.72 1545.82 2320.33 1545.82 Q2323.96 1545.82 2325.77 1542.27 Q2327.6 1538.71 2327.6 1531.6 Q2327.6 1524.47 2325.77 1520.93 Q2323.96 1517.37 2320.33 1517.37 M2320.33 1513.66 Q2326.14 1513.66 2329.2 1518.27 Q2332.28 1522.85 2332.28 1531.6 Q2332.28 1540.33 2329.2 1544.94 Q2326.14 1549.52 2320.33 1549.52 Q2314.52 1549.52 2311.44 1544.94 Q2308.39 1540.33 2308.39 1531.6 Q2308.39 1522.85 2311.44 1518.27 Q2314.52 1513.66 2320.33 1513.66 Z\" fill=\"#000000\" fill-rule=\"evenodd\" fill-opacity=\"1\" /><polyline clip-path=\"url(#clip862)\" style=\"stroke:#000000; stroke-linecap:butt; stroke-linejoin:round; stroke-width:2; stroke-opacity:0.1; fill:none\" points=\"\n",
       "  147.478,1277.94 2352.76,1277.94 \n",
       "  \"/>\n",
       "<polyline clip-path=\"url(#clip862)\" style=\"stroke:#000000; stroke-linecap:butt; stroke-linejoin:round; stroke-width:2; stroke-opacity:0.1; fill:none\" points=\"\n",
       "  147.478,1032 2352.76,1032 \n",
       "  \"/>\n",
       "<polyline clip-path=\"url(#clip862)\" style=\"stroke:#000000; stroke-linecap:butt; stroke-linejoin:round; stroke-width:2; stroke-opacity:0.1; fill:none\" points=\"\n",
       "  147.478,786.062 2352.76,786.062 \n",
       "  \"/>\n",
       "<polyline clip-path=\"url(#clip862)\" style=\"stroke:#000000; stroke-linecap:butt; stroke-linejoin:round; stroke-width:2; stroke-opacity:0.1; fill:none\" points=\"\n",
       "  147.478,540.122 2352.76,540.122 \n",
       "  \"/>\n",
       "<polyline clip-path=\"url(#clip862)\" style=\"stroke:#000000; stroke-linecap:butt; stroke-linejoin:round; stroke-width:2; stroke-opacity:0.1; fill:none\" points=\"\n",
       "  147.478,294.182 2352.76,294.182 \n",
       "  \"/>\n",
       "<polyline clip-path=\"url(#clip862)\" style=\"stroke:#000000; stroke-linecap:butt; stroke-linejoin:round; stroke-width:2; stroke-opacity:0.1; fill:none\" points=\"\n",
       "  147.478,48.2426 2352.76,48.2426 \n",
       "  \"/>\n",
       "<polyline clip-path=\"url(#clip860)\" style=\"stroke:#000000; stroke-linecap:butt; stroke-linejoin:round; stroke-width:4; stroke-opacity:1; fill:none\" points=\"\n",
       "  147.478,1486.45 147.478,47.2441 \n",
       "  \"/>\n",
       "<polyline clip-path=\"url(#clip860)\" style=\"stroke:#000000; stroke-linecap:butt; stroke-linejoin:round; stroke-width:4; stroke-opacity:1; fill:none\" points=\"\n",
       "  147.478,1277.94 166.376,1277.94 \n",
       "  \"/>\n",
       "<polyline clip-path=\"url(#clip860)\" style=\"stroke:#000000; stroke-linecap:butt; stroke-linejoin:round; stroke-width:4; stroke-opacity:1; fill:none\" points=\"\n",
       "  147.478,1032 166.376,1032 \n",
       "  \"/>\n",
       "<polyline clip-path=\"url(#clip860)\" style=\"stroke:#000000; stroke-linecap:butt; stroke-linejoin:round; stroke-width:4; stroke-opacity:1; fill:none\" points=\"\n",
       "  147.478,786.062 166.376,786.062 \n",
       "  \"/>\n",
       "<polyline clip-path=\"url(#clip860)\" style=\"stroke:#000000; stroke-linecap:butt; stroke-linejoin:round; stroke-width:4; stroke-opacity:1; fill:none\" points=\"\n",
       "  147.478,540.122 166.376,540.122 \n",
       "  \"/>\n",
       "<polyline clip-path=\"url(#clip860)\" style=\"stroke:#000000; stroke-linecap:butt; stroke-linejoin:round; stroke-width:4; stroke-opacity:1; fill:none\" points=\"\n",
       "  147.478,294.182 166.376,294.182 \n",
       "  \"/>\n",
       "<polyline clip-path=\"url(#clip860)\" style=\"stroke:#000000; stroke-linecap:butt; stroke-linejoin:round; stroke-width:4; stroke-opacity:1; fill:none\" points=\"\n",
       "  147.478,48.2426 166.376,48.2426 \n",
       "  \"/>\n",
       "<path clip-path=\"url(#clip860)\" d=\"M51.3625 1278.39 L81.0383 1278.39 L81.0383 1282.33 L51.3625 1282.33 L51.3625 1278.39 Z\" fill=\"#000000\" fill-rule=\"evenodd\" fill-opacity=\"1\" /><path clip-path=\"url(#clip860)\" d=\"M95.1586 1291.29 L111.478 1291.29 L111.478 1295.22 L89.5336 1295.22 L89.5336 1291.29 Q92.1956 1288.53 96.7789 1283.9 Q101.385 1279.25 102.566 1277.91 Q104.811 1275.38 105.691 1273.65 Q106.594 1271.89 106.594 1270.2 Q106.594 1267.44 104.649 1265.71 Q102.728 1263.97 99.6261 1263.97 Q97.4271 1263.97 94.9734 1264.74 Q92.5428 1265.5 89.7651 1267.05 L89.7651 1262.33 Q92.5891 1261.19 95.0428 1260.62 Q97.4965 1260.04 99.5335 1260.04 Q104.904 1260.04 108.098 1262.72 Q111.293 1265.41 111.293 1269.9 Q111.293 1272.03 110.483 1273.95 Q109.696 1275.85 107.589 1278.44 Q107.01 1279.11 103.909 1282.33 Q100.807 1285.52 95.1586 1291.29 Z\" fill=\"#000000\" fill-rule=\"evenodd\" fill-opacity=\"1\" /><path clip-path=\"url(#clip860)\" d=\"M50.9921 1032.45 L80.6679 1032.45 L80.6679 1036.39 L50.9921 1036.39 L50.9921 1032.45 Z\" fill=\"#000000\" fill-rule=\"evenodd\" fill-opacity=\"1\" /><path clip-path=\"url(#clip860)\" d=\"M91.5706 1045.35 L99.2095 1045.35 L99.2095 1018.98 L90.8993 1020.65 L90.8993 1016.39 L99.1632 1014.72 L103.839 1014.72 L103.839 1045.35 L111.478 1045.35 L111.478 1049.28 L91.5706 1049.28 L91.5706 1045.35 Z\" fill=\"#000000\" fill-rule=\"evenodd\" fill-opacity=\"1\" /><path clip-path=\"url(#clip860)\" d=\"M99.5335 771.861 Q95.9224 771.861 94.0937 775.426 Q92.2882 778.967 92.2882 786.097 Q92.2882 793.203 94.0937 796.768 Q95.9224 800.31 99.5335 800.31 Q103.168 800.31 104.973 796.768 Q106.802 793.203 106.802 786.097 Q106.802 778.967 104.973 775.426 Q103.168 771.861 99.5335 771.861 M99.5335 768.157 Q105.344 768.157 108.399 772.764 Q111.478 777.347 111.478 786.097 Q111.478 794.824 108.399 799.43 Q105.344 804.014 99.5335 804.014 Q93.7234 804.014 90.6447 799.43 Q87.5892 794.824 87.5892 786.097 Q87.5892 777.347 90.6447 772.764 Q93.7234 768.157 99.5335 768.157 Z\" fill=\"#000000\" fill-rule=\"evenodd\" fill-opacity=\"1\" /><path clip-path=\"url(#clip860)\" d=\"M91.5706 553.467 L99.2095 553.467 L99.2095 527.102 L90.8993 528.768 L90.8993 524.509 L99.1632 522.842 L103.839 522.842 L103.839 553.467 L111.478 553.467 L111.478 557.402 L91.5706 557.402 L91.5706 553.467 Z\" fill=\"#000000\" fill-rule=\"evenodd\" fill-opacity=\"1\" /><path clip-path=\"url(#clip860)\" d=\"M95.1586 307.527 L111.478 307.527 L111.478 311.462 L89.5336 311.462 L89.5336 307.527 Q92.1956 304.773 96.7789 300.143 Q101.385 295.49 102.566 294.148 Q104.811 291.625 105.691 289.889 Q106.594 288.129 106.594 286.439 Q106.594 283.685 104.649 281.949 Q102.728 280.213 99.6261 280.213 Q97.4271 280.213 94.9734 280.977 Q92.5428 281.74 89.7651 283.291 L89.7651 278.569 Q92.5891 277.435 95.0428 276.856 Q97.4965 276.277 99.5335 276.277 Q104.904 276.277 108.098 278.963 Q111.293 281.648 111.293 286.139 Q111.293 288.268 110.483 290.189 Q109.696 292.088 107.589 294.68 Q107.01 295.351 103.909 298.569 Q100.807 301.763 95.1586 307.527 Z\" fill=\"#000000\" fill-rule=\"evenodd\" fill-opacity=\"1\" /><path clip-path=\"url(#clip860)\" d=\"M104.348 46.8884 Q107.705 47.606 109.58 49.8745 Q111.478 52.143 111.478 55.4763 Q111.478 60.592 107.959 63.393 Q104.441 66.1939 97.9595 66.1939 Q95.7836 66.1939 93.4688 65.7541 Q91.1771 65.3374 88.7234 64.4809 L88.7234 59.967 Q90.6678 61.1013 92.9826 61.68 Q95.2974 62.2587 97.8206 62.2587 Q102.219 62.2587 104.51 60.5226 Q106.825 58.7865 106.825 55.4763 Q106.825 52.4208 104.672 50.7078 Q102.543 48.9717 98.7234 48.9717 L94.6956 48.9717 L94.6956 45.1292 L98.9085 45.1292 Q102.358 45.1292 104.186 43.7634 Q106.015 42.3745 106.015 39.782 Q106.015 37.1199 104.117 35.7079 Q102.242 34.2727 98.7234 34.2727 Q96.8021 34.2727 94.603 34.6894 Q92.4039 35.1061 89.7651 35.9857 L89.7651 31.8191 Q92.4271 31.0783 94.7419 30.7079 Q97.0798 30.3376 99.14 30.3376 Q104.464 30.3376 107.566 32.7681 Q110.668 35.1755 110.668 39.2959 Q110.668 42.1662 109.024 44.1569 Q107.381 46.1245 104.348 46.8884 Z\" fill=\"#000000\" fill-rule=\"evenodd\" fill-opacity=\"1\" /><polyline clip-path=\"url(#clip862)\" style=\"stroke:#009af9; stroke-linecap:butt; stroke-linejoin:round; stroke-width:4; stroke-opacity:1; fill:none\" points=\"\n",
       "  209.891,540.122 220.346,862.487 230.8,266.059 241.255,733.177 251.71,689.391 262.164,1061.71 272.619,1124.07 283.073,1112.94 293.528,796.704 303.982,789.579 \n",
       "  314.437,495.274 324.891,451.23 335.346,757.95 345.8,470.158 356.255,571.617 366.709,1023.36 377.164,838.968 387.618,684.244 398.073,1005.6 408.527,486.051 \n",
       "  418.982,376.671 429.437,644.453 439.891,459.486 450.346,640.925 460.8,87.9763 471.255,1038.34 481.709,481.594 492.164,769.693 502.618,710.407 513.073,508.794 \n",
       "  523.527,768.318 533.982,355.582 544.436,661.415 554.891,531.853 565.345,662.812 575.8,819.312 586.254,921.168 596.709,921.531 607.163,426.793 617.618,811.795 \n",
       "  628.073,826.029 638.527,878.408 648.982,1316.29 659.436,519.235 669.891,1080.71 680.345,882.577 690.8,375.733 701.254,373.698 711.709,946.408 722.163,965.189 \n",
       "  732.618,642.061 743.072,948.926 753.527,766.384 763.981,803.822 774.436,596.999 784.89,765.529 795.345,1226.59 805.799,889.461 816.254,626.472 826.709,798.713 \n",
       "  837.163,936.397 847.618,413.899 858.072,504.642 868.527,239.231 878.981,822.083 889.436,1153.81 899.89,1080.32 910.345,1388.37 920.799,1267.79 931.254,1124.95 \n",
       "  941.708,1073.63 952.163,1189.78 962.617,331.813 973.072,791.212 983.526,808.842 993.981,787.636 1004.44,1117.61 1014.89,982.104 1025.34,757.282 1035.8,1204.02 \n",
       "  1046.25,415.808 1056.71,876.135 1067.16,431.341 1077.62,1133.13 1088.07,299.816 1098.53,982.219 1108.98,658.181 1119.44,987.159 1129.89,351.362 1140.34,776.121 \n",
       "  1150.8,380.018 1161.25,975.894 1171.71,1445.72 1182.16,1095.2 1192.62,1107.64 1203.07,1090.07 1213.53,1258.47 1223.98,812.838 1234.44,1083.19 1244.89,1047.26 \n",
       "  1255.34,975.05 1265.8,868.928 1276.25,663.301 1286.71,1352.85 1297.16,1000.48 1307.62,601.421 1318.07,1106.03 1328.53,1000.68 1338.98,899.869 1349.43,877.699 \n",
       "  1359.89,1133.27 1370.34,678.646 1380.8,1374.37 1391.25,676.207 1401.71,574.01 1412.16,655.807 1422.62,283.953 1433.07,859.653 1443.53,370.497 1453.98,769.499 \n",
       "  1464.43,425.956 1474.89,873.045 1485.34,597.178 1495.8,1357.09 1506.25,284.724 1516.71,1189.41 1527.16,264.977 1537.62,1014.64 1548.07,863.155 1558.53,1129.09 \n",
       "  1568.98,260.608 1579.43,1049.94 1589.89,649.131 1600.34,698.991 1610.8,879.828 1621.25,458.7 1631.71,727.018 1642.16,671.867 1652.62,622.236 1663.07,846.35 \n",
       "  1673.53,1037.36 1683.98,906.469 1694.43,1233.48 1704.89,665.561 1715.34,1360.6 1725.8,906.993 1736.25,920.767 1746.71,914.98 1757.16,647.089 1767.62,1031.03 \n",
       "  1778.07,704.07 1788.53,588.024 1798.98,483.941 1809.43,469.564 1819.89,628.305 1830.34,448.095 1840.8,1230.42 1851.25,212.53 1861.71,696.375 1872.16,235.717 \n",
       "  1882.62,1076.72 1893.07,143.328 1903.52,1175.09 1913.98,417.09 1924.43,1084.25 1934.89,270.208 1945.34,1179.33 1955.8,684.424 1966.25,1005.19 1976.71,444.002 \n",
       "  1987.16,421.285 1997.62,519.007 2008.07,339.665 2018.52,389.806 2028.98,876.664 2039.43,749.152 2049.89,820.436 2060.34,407.065 2070.8,537.377 2081.25,641.117 \n",
       "  2091.71,760.722 2102.16,478.85 2112.62,653.36 2123.07,805.145 2133.52,714.935 2143.98,313.242 2154.43,372.643 2164.89,746.179 2175.34,1241.1 2185.8,554.695 \n",
       "  2196.25,796.214 2206.71,368.222 2217.16,384.988 2227.62,583.493 2238.07,668.896 2248.52,1243.53 2258.98,1123.04 2269.43,654.049 2279.89,770.515 2290.34,766.245 \n",
       "  \n",
       "  \"/>\n",
       "<path clip-path=\"url(#clip860)\" d=\"\n",
       "M1981.79 198.898 L2279.25 198.898 L2279.25 95.2176 L1981.79 95.2176  Z\n",
       "  \" fill=\"#ffffff\" fill-rule=\"evenodd\" fill-opacity=\"1\"/>\n",
       "<polyline clip-path=\"url(#clip860)\" style=\"stroke:#000000; stroke-linecap:butt; stroke-linejoin:round; stroke-width:4; stroke-opacity:1; fill:none\" points=\"\n",
       "  1981.79,198.898 2279.25,198.898 2279.25,95.2176 1981.79,95.2176 1981.79,198.898 \n",
       "  \"/>\n",
       "<polyline clip-path=\"url(#clip860)\" style=\"stroke:#009af9; stroke-linecap:butt; stroke-linejoin:round; stroke-width:4; stroke-opacity:1; fill:none\" points=\"\n",
       "  2006.29,147.058 2153.31,147.058 \n",
       "  \"/>\n",
       "<path clip-path=\"url(#clip860)\" d=\"M2191.65 166.745 Q2189.85 171.375 2188.13 172.787 Q2186.42 174.199 2183.55 174.199 L2180.15 174.199 L2180.15 170.634 L2182.65 170.634 Q2184.41 170.634 2185.38 169.8 Q2186.35 168.967 2187.53 165.865 L2188.3 163.921 L2177.81 138.412 L2182.32 138.412 L2190.43 158.689 L2198.53 138.412 L2203.04 138.412 L2191.65 166.745 Z\" fill=\"#000000\" fill-rule=\"evenodd\" fill-opacity=\"1\" /><path clip-path=\"url(#clip860)\" d=\"M2210.33 160.402 L2217.97 160.402 L2217.97 134.037 L2209.66 135.703 L2209.66 131.444 L2217.93 129.778 L2222.6 129.778 L2222.6 160.402 L2230.24 160.402 L2230.24 164.338 L2210.33 164.338 L2210.33 160.402 Z\" fill=\"#000000\" fill-rule=\"evenodd\" fill-opacity=\"1\" /></svg>\n"
      ]
     },
     "execution_count": 10,
     "metadata": {},
     "output_type": "execute_result"
    }
   ],
   "source": [
    "plot(y)"
   ]
  },
  {
   "cell_type": "code",
   "execution_count": 11,
   "id": "fc13c97d",
   "metadata": {},
   "outputs": [
    {
     "data": {
      "image/svg+xml": [
       "<?xml version=\"1.0\" encoding=\"utf-8\"?>\n",
       "<svg xmlns=\"http://www.w3.org/2000/svg\" xmlns:xlink=\"http://www.w3.org/1999/xlink\" width=\"600\" height=\"400\" viewBox=\"0 0 2400 1600\">\n",
       "<defs>\n",
       "  <clipPath id=\"clip900\">\n",
       "    <rect x=\"0\" y=\"0\" width=\"2400\" height=\"1600\"/>\n",
       "  </clipPath>\n",
       "</defs>\n",
       "<path clip-path=\"url(#clip900)\" d=\"\n",
       "M0 1600 L2400 1600 L2400 0 L0 0  Z\n",
       "  \" fill=\"#ffffff\" fill-rule=\"evenodd\" fill-opacity=\"1\"/>\n",
       "<defs>\n",
       "  <clipPath id=\"clip901\">\n",
       "    <rect x=\"480\" y=\"0\" width=\"1681\" height=\"1600\"/>\n",
       "  </clipPath>\n",
       "</defs>\n",
       "<path clip-path=\"url(#clip900)\" d=\"\n",
       "M156.112 1486.45 L2352.76 1486.45 L2352.76 47.2441 L156.112 47.2441  Z\n",
       "  \" fill=\"#ffffff\" fill-rule=\"evenodd\" fill-opacity=\"1\"/>\n",
       "<defs>\n",
       "  <clipPath id=\"clip902\">\n",
       "    <rect x=\"156\" y=\"47\" width=\"2198\" height=\"1440\"/>\n",
       "  </clipPath>\n",
       "</defs>\n",
       "<polyline clip-path=\"url(#clip902)\" style=\"stroke:#000000; stroke-linecap:butt; stroke-linejoin:round; stroke-width:2; stroke-opacity:0.1; fill:none\" points=\"\n",
       "  263.374,1486.45 263.374,47.2441 \n",
       "  \"/>\n",
       "<polyline clip-path=\"url(#clip902)\" style=\"stroke:#000000; stroke-linecap:butt; stroke-linejoin:round; stroke-width:2; stroke-opacity:0.1; fill:none\" points=\"\n",
       "  749.41,1486.45 749.41,47.2441 \n",
       "  \"/>\n",
       "<polyline clip-path=\"url(#clip902)\" style=\"stroke:#000000; stroke-linecap:butt; stroke-linejoin:round; stroke-width:2; stroke-opacity:0.1; fill:none\" points=\"\n",
       "  1235.45,1486.45 1235.45,47.2441 \n",
       "  \"/>\n",
       "<polyline clip-path=\"url(#clip902)\" style=\"stroke:#000000; stroke-linecap:butt; stroke-linejoin:round; stroke-width:2; stroke-opacity:0.1; fill:none\" points=\"\n",
       "  1721.48,1486.45 1721.48,47.2441 \n",
       "  \"/>\n",
       "<polyline clip-path=\"url(#clip902)\" style=\"stroke:#000000; stroke-linecap:butt; stroke-linejoin:round; stroke-width:2; stroke-opacity:0.1; fill:none\" points=\"\n",
       "  2207.52,1486.45 2207.52,47.2441 \n",
       "  \"/>\n",
       "<polyline clip-path=\"url(#clip900)\" style=\"stroke:#000000; stroke-linecap:butt; stroke-linejoin:round; stroke-width:4; stroke-opacity:1; fill:none\" points=\"\n",
       "  156.112,1486.45 2352.76,1486.45 \n",
       "  \"/>\n",
       "<polyline clip-path=\"url(#clip900)\" style=\"stroke:#000000; stroke-linecap:butt; stroke-linejoin:round; stroke-width:4; stroke-opacity:1; fill:none\" points=\"\n",
       "  263.374,1486.45 263.374,1467.55 \n",
       "  \"/>\n",
       "<polyline clip-path=\"url(#clip900)\" style=\"stroke:#000000; stroke-linecap:butt; stroke-linejoin:round; stroke-width:4; stroke-opacity:1; fill:none\" points=\"\n",
       "  749.41,1486.45 749.41,1467.55 \n",
       "  \"/>\n",
       "<polyline clip-path=\"url(#clip900)\" style=\"stroke:#000000; stroke-linecap:butt; stroke-linejoin:round; stroke-width:4; stroke-opacity:1; fill:none\" points=\"\n",
       "  1235.45,1486.45 1235.45,1467.55 \n",
       "  \"/>\n",
       "<polyline clip-path=\"url(#clip900)\" style=\"stroke:#000000; stroke-linecap:butt; stroke-linejoin:round; stroke-width:4; stroke-opacity:1; fill:none\" points=\"\n",
       "  1721.48,1486.45 1721.48,1467.55 \n",
       "  \"/>\n",
       "<polyline clip-path=\"url(#clip900)\" style=\"stroke:#000000; stroke-linecap:butt; stroke-linejoin:round; stroke-width:4; stroke-opacity:1; fill:none\" points=\"\n",
       "  2207.52,1486.45 2207.52,1467.55 \n",
       "  \"/>\n",
       "<path clip-path=\"url(#clip900)\" d=\"M232.274 1532.02 L261.95 1532.02 L261.95 1535.95 L232.274 1535.95 L232.274 1532.02 Z\" fill=\"#000000\" fill-rule=\"evenodd\" fill-opacity=\"1\" /><path clip-path=\"url(#clip900)\" d=\"M284.89 1518.36 L273.084 1536.81 L284.89 1536.81 L284.89 1518.36 M283.663 1514.29 L289.542 1514.29 L289.542 1536.81 L294.473 1536.81 L294.473 1540.7 L289.542 1540.7 L289.542 1548.85 L284.89 1548.85 L284.89 1540.7 L269.288 1540.7 L269.288 1536.19 L283.663 1514.29 Z\" fill=\"#000000\" fill-rule=\"evenodd\" fill-opacity=\"1\" /><path clip-path=\"url(#clip900)\" d=\"M719.352 1532.02 L749.028 1532.02 L749.028 1535.95 L719.352 1535.95 L719.352 1532.02 Z\" fill=\"#000000\" fill-rule=\"evenodd\" fill-opacity=\"1\" /><path clip-path=\"url(#clip900)\" d=\"M763.148 1544.91 L779.467 1544.91 L779.467 1548.85 L757.523 1548.85 L757.523 1544.91 Q760.185 1542.16 764.768 1537.53 Q769.375 1532.88 770.555 1531.53 Q772.801 1529.01 773.68 1527.27 Q774.583 1525.51 774.583 1523.82 Q774.583 1521.07 772.639 1519.33 Q770.718 1517.6 767.616 1517.6 Q765.417 1517.6 762.963 1518.36 Q760.532 1519.13 757.755 1520.68 L757.755 1515.95 Q760.579 1514.82 763.032 1514.24 Q765.486 1513.66 767.523 1513.66 Q772.893 1513.66 776.088 1516.35 Q779.282 1519.03 779.282 1523.52 Q779.282 1525.65 778.472 1527.57 Q777.685 1529.47 775.579 1532.07 Q775 1532.74 771.898 1535.95 Q768.796 1539.15 763.148 1544.91 Z\" fill=\"#000000\" fill-rule=\"evenodd\" fill-opacity=\"1\" /><path clip-path=\"url(#clip900)\" d=\"M1235.45 1517.37 Q1231.83 1517.37 1230.01 1520.93 Q1228.2 1524.47 1228.2 1531.6 Q1228.2 1538.71 1230.01 1542.27 Q1231.83 1545.82 1235.45 1545.82 Q1239.08 1545.82 1240.89 1542.27 Q1242.71 1538.71 1242.71 1531.6 Q1242.71 1524.47 1240.89 1520.93 Q1239.08 1517.37 1235.45 1517.37 M1235.45 1513.66 Q1241.26 1513.66 1244.31 1518.27 Q1247.39 1522.85 1247.39 1531.6 Q1247.39 1540.33 1244.31 1544.94 Q1241.26 1549.52 1235.45 1549.52 Q1229.64 1549.52 1226.56 1544.94 Q1223.5 1540.33 1223.5 1531.6 Q1223.5 1522.85 1226.56 1518.27 Q1229.64 1513.66 1235.45 1513.66 Z\" fill=\"#000000\" fill-rule=\"evenodd\" fill-opacity=\"1\" /><path clip-path=\"url(#clip900)\" d=\"M1716.14 1544.91 L1732.45 1544.91 L1732.45 1548.85 L1710.51 1548.85 L1710.51 1544.91 Q1713.17 1542.16 1717.76 1537.53 Q1722.36 1532.88 1723.54 1531.53 Q1725.79 1529.01 1726.67 1527.27 Q1727.57 1525.51 1727.57 1523.82 Q1727.57 1521.07 1725.63 1519.33 Q1723.7 1517.6 1720.6 1517.6 Q1718.4 1517.6 1715.95 1518.36 Q1713.52 1519.13 1710.74 1520.68 L1710.74 1515.95 Q1713.57 1514.82 1716.02 1514.24 Q1718.47 1513.66 1720.51 1513.66 Q1725.88 1513.66 1729.07 1516.35 Q1732.27 1519.03 1732.27 1523.52 Q1732.27 1525.65 1731.46 1527.57 Q1730.67 1529.47 1728.57 1532.07 Q1727.99 1532.74 1724.89 1535.95 Q1721.78 1539.15 1716.14 1544.91 Z\" fill=\"#000000\" fill-rule=\"evenodd\" fill-opacity=\"1\" /><path clip-path=\"url(#clip900)\" d=\"M2210.53 1518.36 L2198.72 1536.81 L2210.53 1536.81 L2210.53 1518.36 M2209.3 1514.29 L2215.18 1514.29 L2215.18 1536.81 L2220.11 1536.81 L2220.11 1540.7 L2215.18 1540.7 L2215.18 1548.85 L2210.53 1548.85 L2210.53 1540.7 L2194.93 1540.7 L2194.93 1536.19 L2209.3 1514.29 Z\" fill=\"#000000\" fill-rule=\"evenodd\" fill-opacity=\"1\" /><polyline clip-path=\"url(#clip902)\" style=\"stroke:#000000; stroke-linecap:butt; stroke-linejoin:round; stroke-width:2; stroke-opacity:0.1; fill:none\" points=\"\n",
       "  156.112,1445.73 2352.76,1445.73 \n",
       "  \"/>\n",
       "<polyline clip-path=\"url(#clip902)\" style=\"stroke:#000000; stroke-linecap:butt; stroke-linejoin:round; stroke-width:2; stroke-opacity:0.1; fill:none\" points=\"\n",
       "  156.112,994.05 2352.76,994.05 \n",
       "  \"/>\n",
       "<polyline clip-path=\"url(#clip902)\" style=\"stroke:#000000; stroke-linecap:butt; stroke-linejoin:round; stroke-width:2; stroke-opacity:0.1; fill:none\" points=\"\n",
       "  156.112,542.369 2352.76,542.369 \n",
       "  \"/>\n",
       "<polyline clip-path=\"url(#clip902)\" style=\"stroke:#000000; stroke-linecap:butt; stroke-linejoin:round; stroke-width:2; stroke-opacity:0.1; fill:none\" points=\"\n",
       "  156.112,90.6882 2352.76,90.6882 \n",
       "  \"/>\n",
       "<polyline clip-path=\"url(#clip900)\" style=\"stroke:#000000; stroke-linecap:butt; stroke-linejoin:round; stroke-width:4; stroke-opacity:1; fill:none\" points=\"\n",
       "  156.112,1486.45 156.112,47.2441 \n",
       "  \"/>\n",
       "<polyline clip-path=\"url(#clip900)\" style=\"stroke:#000000; stroke-linecap:butt; stroke-linejoin:round; stroke-width:4; stroke-opacity:1; fill:none\" points=\"\n",
       "  156.112,1445.73 175.01,1445.73 \n",
       "  \"/>\n",
       "<polyline clip-path=\"url(#clip900)\" style=\"stroke:#000000; stroke-linecap:butt; stroke-linejoin:round; stroke-width:4; stroke-opacity:1; fill:none\" points=\"\n",
       "  156.112,994.05 175.01,994.05 \n",
       "  \"/>\n",
       "<polyline clip-path=\"url(#clip900)\" style=\"stroke:#000000; stroke-linecap:butt; stroke-linejoin:round; stroke-width:4; stroke-opacity:1; fill:none\" points=\"\n",
       "  156.112,542.369 175.01,542.369 \n",
       "  \"/>\n",
       "<polyline clip-path=\"url(#clip900)\" style=\"stroke:#000000; stroke-linecap:butt; stroke-linejoin:round; stroke-width:4; stroke-opacity:1; fill:none\" points=\"\n",
       "  156.112,90.6882 175.01,90.6882 \n",
       "  \"/>\n",
       "<path clip-path=\"url(#clip900)\" d=\"M62.9365 1431.53 Q59.3254 1431.53 57.4967 1435.09 Q55.6912 1438.64 55.6912 1445.76 Q55.6912 1452.87 57.4967 1456.44 Q59.3254 1459.98 62.9365 1459.98 Q66.5707 1459.98 68.3763 1456.44 Q70.205 1452.87 70.205 1445.76 Q70.205 1438.64 68.3763 1435.09 Q66.5707 1431.53 62.9365 1431.53 M62.9365 1427.83 Q68.7467 1427.83 71.8022 1432.43 Q74.8809 1437.02 74.8809 1445.76 Q74.8809 1454.49 71.8022 1459.1 Q68.7467 1463.68 62.9365 1463.68 Q57.1264 1463.68 54.0477 1459.1 Q50.9921 1454.49 50.9921 1445.76 Q50.9921 1437.02 54.0477 1432.43 Q57.1264 1427.83 62.9365 1427.83 Z\" fill=\"#000000\" fill-rule=\"evenodd\" fill-opacity=\"1\" /><path clip-path=\"url(#clip900)\" d=\"M83.0984 1457.13 L87.9827 1457.13 L87.9827 1463.01 L83.0984 1463.01 L83.0984 1457.13 Z\" fill=\"#000000\" fill-rule=\"evenodd\" fill-opacity=\"1\" /><path clip-path=\"url(#clip900)\" d=\"M108.168 1431.53 Q104.557 1431.53 102.728 1435.09 Q100.922 1438.64 100.922 1445.76 Q100.922 1452.87 102.728 1456.44 Q104.557 1459.98 108.168 1459.98 Q111.802 1459.98 113.608 1456.44 Q115.436 1452.87 115.436 1445.76 Q115.436 1438.64 113.608 1435.09 Q111.802 1431.53 108.168 1431.53 M108.168 1427.83 Q113.978 1427.83 117.033 1432.43 Q120.112 1437.02 120.112 1445.76 Q120.112 1454.49 117.033 1459.1 Q113.978 1463.68 108.168 1463.68 Q102.358 1463.68 99.2789 1459.1 Q96.2234 1454.49 96.2234 1445.76 Q96.2234 1437.02 99.2789 1432.43 Q102.358 1427.83 108.168 1427.83 Z\" fill=\"#000000\" fill-rule=\"evenodd\" fill-opacity=\"1\" /><path clip-path=\"url(#clip900)\" d=\"M64.1634 979.848 Q60.5523 979.848 58.7236 983.413 Q56.918 986.955 56.918 994.084 Q56.918 1001.19 58.7236 1004.76 Q60.5523 1008.3 64.1634 1008.3 Q67.7976 1008.3 69.6031 1004.76 Q71.4318 1001.19 71.4318 994.084 Q71.4318 986.955 69.6031 983.413 Q67.7976 979.848 64.1634 979.848 M64.1634 976.145 Q69.9735 976.145 73.029 980.751 Q76.1077 985.334 76.1077 994.084 Q76.1077 1002.81 73.029 1007.42 Q69.9735 1012 64.1634 1012 Q58.3532 1012 55.2745 1007.42 Q52.219 1002.81 52.219 994.084 Q52.219 985.334 55.2745 980.751 Q58.3532 976.145 64.1634 976.145 Z\" fill=\"#000000\" fill-rule=\"evenodd\" fill-opacity=\"1\" /><path clip-path=\"url(#clip900)\" d=\"M84.3253 1005.45 L89.2095 1005.45 L89.2095 1011.33 L84.3253 1011.33 L84.3253 1005.45 Z\" fill=\"#000000\" fill-rule=\"evenodd\" fill-opacity=\"1\" /><path clip-path=\"url(#clip900)\" d=\"M100.205 1007.39 L107.844 1007.39 L107.844 981.029 L99.5335 982.695 L99.5335 978.436 L107.797 976.77 L112.473 976.77 L112.473 1007.39 L120.112 1007.39 L120.112 1011.33 L100.205 1011.33 L100.205 1007.39 Z\" fill=\"#000000\" fill-rule=\"evenodd\" fill-opacity=\"1\" /><path clip-path=\"url(#clip900)\" d=\"M64.5337 528.168 Q60.9226 528.168 59.0939 531.732 Q57.2884 535.274 57.2884 542.404 Q57.2884 549.51 59.0939 553.075 Q60.9226 556.617 64.5337 556.617 Q68.168 556.617 69.9735 553.075 Q71.8022 549.51 71.8022 542.404 Q71.8022 535.274 69.9735 531.732 Q68.168 528.168 64.5337 528.168 M64.5337 524.464 Q70.3439 524.464 73.3994 529.07 Q76.4781 533.654 76.4781 542.404 Q76.4781 551.13 73.3994 555.737 Q70.3439 560.32 64.5337 560.32 Q58.7236 560.32 55.6449 555.737 Q52.5893 551.13 52.5893 542.404 Q52.5893 533.654 55.6449 529.07 Q58.7236 524.464 64.5337 524.464 Z\" fill=\"#000000\" fill-rule=\"evenodd\" fill-opacity=\"1\" /><path clip-path=\"url(#clip900)\" d=\"M84.6956 553.769 L89.5799 553.769 L89.5799 559.649 L84.6956 559.649 L84.6956 553.769 Z\" fill=\"#000000\" fill-rule=\"evenodd\" fill-opacity=\"1\" /><path clip-path=\"url(#clip900)\" d=\"M103.793 555.714 L120.112 555.714 L120.112 559.649 L98.1678 559.649 L98.1678 555.714 Q100.83 552.959 105.413 548.33 Q110.02 543.677 111.2 542.334 Q113.445 539.811 114.325 538.075 Q115.228 536.316 115.228 534.626 Q115.228 531.871 113.283 530.135 Q111.362 528.399 108.26 528.399 Q106.061 528.399 103.608 529.163 Q101.177 529.927 98.3993 531.478 L98.3993 526.756 Q101.223 525.621 103.677 525.043 Q106.131 524.464 108.168 524.464 Q113.538 524.464 116.733 527.149 Q119.927 529.834 119.927 534.325 Q119.927 536.455 119.117 538.376 Q118.33 540.274 116.223 542.867 Q115.645 543.538 112.543 546.755 Q109.441 549.95 103.793 555.714 Z\" fill=\"#000000\" fill-rule=\"evenodd\" fill-opacity=\"1\" /><path clip-path=\"url(#clip900)\" d=\"M63.5847 76.4869 Q59.9736 76.4869 58.1449 80.0517 Q56.3393 83.5934 56.3393 90.723 Q56.3393 97.8294 58.1449 101.394 Q59.9736 104.936 63.5847 104.936 Q67.2189 104.936 69.0244 101.394 Q70.8531 97.8294 70.8531 90.723 Q70.8531 83.5934 69.0244 80.0517 Q67.2189 76.4869 63.5847 76.4869 M63.5847 72.7832 Q69.3948 72.7832 72.4503 77.3897 Q75.529 81.973 75.529 90.723 Q75.529 99.4498 72.4503 104.056 Q69.3948 108.64 63.5847 108.64 Q57.7745 108.64 54.6958 104.056 Q51.6403 99.4498 51.6403 90.723 Q51.6403 81.973 54.6958 77.3897 Q57.7745 72.7832 63.5847 72.7832 Z\" fill=\"#000000\" fill-rule=\"evenodd\" fill-opacity=\"1\" /><path clip-path=\"url(#clip900)\" d=\"M83.7466 102.089 L88.6308 102.089 L88.6308 107.968 L83.7466 107.968 L83.7466 102.089 Z\" fill=\"#000000\" fill-rule=\"evenodd\" fill-opacity=\"1\" /><path clip-path=\"url(#clip900)\" d=\"M112.983 89.3341 Q116.339 90.0517 118.214 92.3202 Q120.112 94.5887 120.112 97.922 Q120.112 103.038 116.594 105.839 Q113.075 108.64 106.594 108.64 Q104.418 108.64 102.103 108.2 Q99.8113 107.783 97.3576 106.927 L97.3576 102.413 Q99.3021 103.547 101.617 104.126 Q103.932 104.704 106.455 104.704 Q110.853 104.704 113.145 102.968 Q115.459 101.232 115.459 97.922 Q115.459 94.8665 113.307 93.1535 Q111.177 91.4174 107.358 91.4174 L103.33 91.4174 L103.33 87.5748 L107.543 87.5748 Q110.992 87.5748 112.82 86.2091 Q114.649 84.8202 114.649 82.2276 Q114.649 79.5656 112.751 78.1536 Q110.876 76.7184 107.358 76.7184 Q105.436 76.7184 103.237 77.1351 Q101.038 77.5517 98.3993 78.4314 L98.3993 74.2647 Q101.061 73.524 103.376 73.1536 Q105.714 72.7832 107.774 72.7832 Q113.098 72.7832 116.2 75.2138 Q119.302 77.6212 119.302 81.7415 Q119.302 84.6119 117.658 86.6026 Q116.015 88.5702 112.983 89.3341 Z\" fill=\"#000000\" fill-rule=\"evenodd\" fill-opacity=\"1\" /><polyline clip-path=\"url(#clip902)\" style=\"stroke:#009af9; stroke-linecap:butt; stroke-linejoin:round; stroke-width:4; stroke-opacity:1; fill:none\" points=\"\n",
       "  218.281,1445.72 228.695,1445.71 239.108,1445.71 249.522,1445.69 259.936,1445.67 270.349,1445.65 280.763,1445.61 291.176,1445.55 301.59,1445.46 312.004,1445.35 \n",
       "  322.417,1445.18 332.831,1444.96 343.244,1444.66 353.658,1444.25 364.072,1443.71 374.485,1443 384.899,1442.09 395.312,1440.92 405.726,1439.45 416.14,1437.61 \n",
       "  426.553,1435.33 436.967,1432.56 447.38,1429.21 457.794,1425.22 468.208,1420.51 478.621,1415.03 489.035,1408.7 499.448,1401.5 509.862,1393.38 520.276,1384.32 \n",
       "  530.689,1374.35 541.103,1363.46 551.516,1351.7 561.93,1339.14 572.344,1325.83 582.757,1311.85 593.171,1297.29 603.584,1282.21 613.998,1266.69 624.412,1250.77 \n",
       "  634.825,1234.5 645.239,1217.86 655.652,1200.84 666.066,1183.4 676.479,1165.46 686.893,1146.92 697.307,1127.68 707.72,1107.63 718.134,1086.66 728.547,1064.66 \n",
       "  738.961,1041.54 749.375,1017.25 759.788,991.765 770.202,965.091 780.615,937.285 791.029,908.444 801.443,878.713 811.856,848.277 822.27,817.366 832.683,786.245 \n",
       "  843.097,755.207 853.511,724.565 863.924,694.641 874.338,665.751 884.751,638.196 895.165,612.238 905.579,588.097 915.992,565.93 926.406,545.823 936.819,527.783 \n",
       "  947.233,511.738 957.647,497.531 968.06,484.933 978.474,473.648 988.887,463.329 999.301,453.595 1009.71,444.05 1020.13,434.304 1030.54,423.993 1040.96,412.794 \n",
       "  1051.37,400.449 1061.78,386.768 1072.2,371.645 1082.61,355.062 1093.02,337.084 1103.44,317.858 1113.85,297.606 1124.26,276.611 1134.68,255.202 1145.09,233.742 \n",
       "  1155.5,212.608 1165.92,192.178 1176.33,172.813 1186.75,154.849 1197.16,138.584 1207.57,124.274 1217.99,112.13 1228.4,102.319 1238.81,94.9677 1249.23,90.1661 \n",
       "  1259.64,87.9763 1270.05,88.4366 1280.47,91.5658 1290.88,97.3652 1301.3,105.817 1311.71,116.878 1322.12,130.476 1332.54,146.497 1342.95,164.775 1353.36,185.085 \n",
       "  1363.78,207.139 1374.19,230.579 1384.6,254.989 1395.02,279.898 1405.43,304.802 1415.84,329.184 1426.26,352.539 1436.67,374.406 1447.09,394.389 1457.5,412.186 \n",
       "  1467.91,427.609 1478.33,440.597 1488.74,451.217 1499.15,459.668 1509.57,466.268 1519.98,471.436 1530.39,475.667 1540.81,479.508 1551.22,483.53 1561.64,488.293 \n",
       "  1572.05,494.326 1582.46,502.098 1592.88,512.001 1603.29,524.339 1613.7,539.318 1624.12,557.044 1634.53,577.529 1644.94,600.698 1655.36,626.401 1665.77,654.424 \n",
       "  1676.18,684.509 1686.6,716.363 1697.01,749.673 1707.43,784.121 1717.84,819.385 1728.25,855.156 1738.67,891.132 1749.08,927.031 1759.49,962.585 1769.91,997.544 \n",
       "  1780.32,1031.68 1790.73,1064.78 1801.15,1096.65 1811.56,1127.14 1821.97,1156.1 1832.39,1183.43 1842.8,1209.04 1853.22,1232.89 1863.63,1254.97 1874.04,1275.28 \n",
       "  1884.46,1293.87 1894.87,1310.81 1905.28,1326.18 1915.7,1340.08 1926.11,1352.62 1936.52,1363.91 1946.94,1374.06 1957.35,1383.16 1967.77,1391.33 1978.18,1398.64 \n",
       "  1988.59,1405.17 1999.01,1410.99 2009.42,1416.15 2019.83,1420.72 2030.25,1424.74 2040.66,1428.25 2051.07,1431.29 2061.49,1433.92 2071.9,1436.15 2082.31,1438.04 \n",
       "  2092.73,1439.62 2103.14,1440.92 2113.56,1441.99 2123.97,1442.85 2134.38,1443.54 2144.8,1444.08 2155.21,1444.5 2165.62,1444.83 2176.04,1445.07 2186.45,1445.26 \n",
       "  2196.86,1445.4 2207.28,1445.5 2217.69,1445.57 2228.11,1445.62 2238.52,1445.65 2248.93,1445.68 2259.35,1445.7 2269.76,1445.71 2280.17,1445.71 2290.59,1445.72 \n",
       "  \n",
       "  \"/>\n",
       "<path clip-path=\"url(#clip900)\" d=\"\n",
       "M1983.03 198.898 L2279.53 198.898 L2279.53 95.2176 L1983.03 95.2176  Z\n",
       "  \" fill=\"#ffffff\" fill-rule=\"evenodd\" fill-opacity=\"1\"/>\n",
       "<polyline clip-path=\"url(#clip900)\" style=\"stroke:#000000; stroke-linecap:butt; stroke-linejoin:round; stroke-width:4; stroke-opacity:1; fill:none\" points=\"\n",
       "  1983.03,198.898 2279.53,198.898 2279.53,95.2176 1983.03,95.2176 1983.03,198.898 \n",
       "  \"/>\n",
       "<polyline clip-path=\"url(#clip900)\" style=\"stroke:#009af9; stroke-linecap:butt; stroke-linejoin:round; stroke-width:4; stroke-opacity:1; fill:none\" points=\"\n",
       "  2007.44,147.058 2153.88,147.058 \n",
       "  \"/>\n",
       "<path clip-path=\"url(#clip900)\" d=\"M2192.13 166.745 Q2190.33 171.375 2188.61 172.787 Q2186.9 174.199 2184.03 174.199 L2180.63 174.199 L2180.63 170.634 L2183.13 170.634 Q2184.89 170.634 2185.86 169.8 Q2186.83 168.967 2188.01 165.865 L2188.78 163.921 L2178.29 138.412 L2182.8 138.412 L2190.91 158.689 L2199.01 138.412 L2203.52 138.412 L2192.13 166.745 Z\" fill=\"#000000\" fill-rule=\"evenodd\" fill-opacity=\"1\" /><path clip-path=\"url(#clip900)\" d=\"M2210.81 160.402 L2218.45 160.402 L2218.45 134.037 L2210.14 135.703 L2210.14 131.444 L2218.41 129.778 L2223.08 129.778 L2223.08 160.402 L2230.72 160.402 L2230.72 164.338 L2210.81 164.338 L2210.81 160.402 Z\" fill=\"#000000\" fill-rule=\"evenodd\" fill-opacity=\"1\" /></svg>\n"
      ]
     },
     "execution_count": 11,
     "metadata": {},
     "output_type": "execute_result"
    }
   ],
   "source": [
    "density(y)"
   ]
  },
  {
   "cell_type": "code",
   "execution_count": null,
   "id": "ac60741b",
   "metadata": {},
   "outputs": [],
   "source": []
  }
 ],
 "metadata": {
  "kernelspec": {
   "display_name": "Julia 1.7.2",
   "language": "julia",
   "name": "julia-1.7"
  },
  "language_info": {
   "file_extension": ".jl",
   "mimetype": "application/julia",
   "name": "julia",
   "version": "1.7.2"
  }
 },
 "nbformat": 4,
 "nbformat_minor": 5
}
