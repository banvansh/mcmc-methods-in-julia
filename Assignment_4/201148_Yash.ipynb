{
 "cells": [
  {
   "cell_type": "markdown",
   "id": "fd8222eb",
   "metadata": {},
   "source": [
    "# Q1 Which is a better Estimator"
   ]
  },
  {
   "cell_type": "markdown",
   "id": "789f4e42",
   "metadata": {},
   "source": [
    "MCMC is one of estimator under Monte Carlo Simulations but it is not certainly the best.<br>\n",
    "As we move towards a more stationary Distribution, we take more number of iterations to reach convergence.<br>\n",
    "var($X_t(from MCMC)$) = Var(X) + 2 $\\sum_{t=1}^{\\infty}cov(X_0,X_t)$<br>\n",
    "This will be abviously more than that of normal iid sample.<br>\n",
    "Hence, it is not a better sampler.\n"
   ]
  },
  {
   "cell_type": "markdown",
   "id": "0afe9e22",
   "metadata": {},
   "source": [
    "# Q2. "
   ]
  },
  {
   "cell_type": "markdown",
   "id": "f645040e",
   "metadata": {},
   "source": [
    "f(y|$\\mu$) = N($\\mu$,1)<br>\n",
    "f($\\mu$|$\\nu$) = $t_{\\nu}$<br>\n",
    "f($\\nu$) = Truncated Gamma $(a_0, b_0, (2, \\infty ) )$<br><br>\n",
    "Joint Distribution $(\\mu, \\nu):f(\\mu, \\nu | y)$<br>\n",
    "f($\\mu, \\nu$ | y) $\\propto$ f(y|$\\mu$) f($\\mu$|$\\nu$) f($\\nu$)<br>\n",
    "f($\\mu, \\nu$ | y) $\\propto$ $\\nu^{a_0-1}e^{(\\frac{-\\sum_i(y_i-\\mu)^2}{2}-\\frac{\\nu}{b_0})}(1+\\frac{\\mu^2}{\\nu})^{-\\frac{\\nu+1}{2}}I(2 < \\nu < \\infty)$"
   ]
  },
  {
   "cell_type": "markdown",
   "id": "2bf2ef6d",
   "metadata": {},
   "source": [
    "## MH Algorithm:<br>\n",
    "1. Set initial value of $\\mu, \\nu$ from the above data.\n",
    "2. Draw a random sample from gaussian proposal for k and random proposal for l\n",
    "3. Calculate MH Ratio $\\alpha$\n",
    "4. Compare the ratio with Uniformly sampled value between 0 and 1. If U < $\\alpha$, then update the value with k, l\n",
    "5. Else update the sample values."
   ]
  },
  {
   "cell_type": "code",
   "execution_count": 1,
   "id": "e5348f3e",
   "metadata": {},
   "outputs": [],
   "source": [
    "using Random\n",
    "using QuadGK\n",
    "using Distributions"
   ]
  },
  {
   "cell_type": "code",
   "execution_count": 2,
   "id": "3e62b7e4",
   "metadata": {},
   "outputs": [
    {
     "name": "stdout",
     "output_type": "stream",
     "text": [
      "Prior u which is unknown = u = -0.020763903500327495\n",
      "Prior v which is unknown = v = 2.0173011873112867\n"
     ]
    }
   ],
   "source": [
    "\n",
    "a = 2\n",
    "b = 0.1\n",
    "n = 100\n",
    "v = rand(Truncated(Gamma(a,b),2,Inf))\n",
    "u = rand(TDist(v))\n",
    "Y = rand(Normal(u,1),n)\n",
    "println(\"Prior u which is unknown = u = \",u)\n",
    "println(\"Prior v which is unknown = v = \",v)"
   ]
  },
  {
   "cell_type": "code",
   "execution_count": 3,
   "id": "51cb56a7",
   "metadata": {},
   "outputs": [
    {
     "name": "stdout",
     "output_type": "stream",
     "text": [
      "Estimated u = -0.07304953322385899\n",
      "Estimated v = 2.028811452083325\n"
     ]
    }
   ],
   "source": [
    "f(r,t) = exp(-0.5*sum((Y.-r).^2))*((1+(r*r)/t)^(-0.5*(t+1)))*((t)^(a-1))*exp(-1.0*t*b);\n",
    "u = mean(Y);\n",
    "v = a/b;\n",
    "iterations = 100000;\n",
    "for t=0:iterations\n",
    "    k = rand(Normal(u,1))\n",
    "    l = rand(Uniform(2,v+0.01))\n",
    "    alpha = min(1,(1.0*f(k,l))/f(u,v))\n",
    "    U = rand()\n",
    "    if U<alpha\n",
    "        u = k\n",
    "        v = l\n",
    "    end\n",
    "end\n",
    "println(\"Estimated u = \",u)\n",
    "println(\"Estimated v = \",v)\n",
    "\n",
    "\n"
   ]
  },
  {
   "cell_type": "markdown",
   "id": "2f2688d9",
   "metadata": {},
   "source": [
    "# Q3 "
   ]
  },
  {
   "cell_type": "markdown",
   "id": "205c8d56",
   "metadata": {},
   "source": [
    "f(y|$\\beta, \\sigma ^2$) = N($X\\beta$,$\\sigma ^2$)<br>\n",
    "f($\\beta$|$\\sigma ^2$) = $N_{p}(\\mu, \\sigma ^2)$<br>\n",
    "f($\\sigma ^2$) = Inverse Gamma $(a,b)$<br><br>\n",
    "Joint Distribution $(\\mu, \\nu):f(\\mu, \\nu | y)$<br>\n",
    "f($\\beta, \\sigma ^2$ | y) $\\propto$ f(y|$\\beta, \\sigma ^2$) f($\\beta$|$\\sigma ^2$) f($\\sigma ^2$)<br>"
   ]
  },
  {
   "cell_type": "code",
   "execution_count": 74,
   "id": "170ba24a",
   "metadata": {},
   "outputs": [],
   "source": [
    "using CSV\n",
    "using Tables\n",
    "using LinearAlgebra\n",
    "data = CSV.File(\"boston.csv\") |> Tables.matrix;"
   ]
  },
  {
   "cell_type": "code",
   "execution_count": 75,
   "id": "58a5bb85",
   "metadata": {},
   "outputs": [
    {
     "data": {
      "text/plain": [
       "1"
      ]
     },
     "metadata": {},
     "output_type": "display_data"
    }
   ],
   "source": [
    "n = size(data,1)\n",
    "p = size(data,2)\n",
    "a = 2\n",
    "b = 1"
   ]
  },
  {
   "cell_type": "code",
   "execution_count": 83,
   "id": "828d6d8d",
   "metadata": {},
   "outputs": [
    {
     "data": {
      "text/plain": [
       "f (generic function with 1 method)"
      ]
     },
     "metadata": {},
     "output_type": "display_data"
    }
   ],
   "source": [
    "sigma = rand(InverseGamma(a,b))\n",
    "mu = rand(p)\n",
    "beta = rand(MvNormal(mu,sigma*Matrix(I,p,p)))\n",
    "Y = rand(MvNormal((data*beta),sigma*Matrix(I,n,n)))\n",
    "Invp(s) = inv(s*Matrix(I,p,p));\n",
    "Invn(s) = inv(s*Matrix(I,n,n));\n",
    "f(BETA, SIGMA) = exp.(-(transpose(Y.-data*BETA)*Invn(SIGMA)*(Y.-data*BETA)))*exp.(-(transpose(BETA-mu)*Invp(SIGMA)*(BETA-mu)))*((1/SIGMA)^(-(a+1)))*exp(-b/SIGMA)"
   ]
  },
  {
   "cell_type": "code",
   "execution_count": 84,
   "id": "00b9ef3b",
   "metadata": {},
   "outputs": [
    {
     "name": "stdout",
     "output_type": "stream",
     "text": [
      "[-0.08522359041002138, 0.5151035089355178, 1.0248381393826553, 1.332759546087261, 1.7611513547130007, 1.551999650624613, -0.009703016378105504, -0.48295291820752206, -0.5464342609152866, -0.1491000280865715, 1.0221855645257956, 0.3618695066828239, -0.017451220264118942, 0.2118208370379633]\n",
      "1.0\n"
     ]
    }
   ],
   "source": [
    "BETA = pinv(data)*Y\n",
    "# println(BETA)\n",
    "SIGMA = b/(a-1)\n",
    "iterations = 1000\n",
    "for i=0:iterations\n",
    "    β = rand(MvNormal(BETA,SIGMA*Matrix(I,p,p)))\n",
    "    x = rand(Normal(SIGMA,1))\n",
    "    alpha = min(1,f(β,x)/f(BETA,SIGMA))\n",
    "    U = rand()\n",
    "    if U<alpha\n",
    "        count = count+1\n",
    "        BETA = β\n",
    "        SIGMA = x\n",
    "    end\n",
    "end\n",
    "println(BETA)\n",
    "println(SIGMA)"
   ]
  }
 ],
 "metadata": {
  "kernelspec": {
   "display_name": "Julia 1.7.2",
   "language": "julia",
   "name": "julia-1.7"
  },
  "language_info": {
   "file_extension": ".jl",
   "mimetype": "application/julia",
   "name": "julia",
   "version": "1.7.2"
  }
 },
 "nbformat": 4,
 "nbformat_minor": 5
}
